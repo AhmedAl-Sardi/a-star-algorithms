{
  "cells": [
    {
      "cell_type": "markdown",
      "metadata": {
        "id": "view-in-github",
        "colab_type": "text"
      },
      "source": [
        "<a href=\"https://colab.research.google.com/github/AhmedAl-Sardi/a-star-algorithms/blob/main/A_Star.ipynb\" target=\"_parent\"><img src=\"https://colab.research.google.com/assets/colab-badge.svg\" alt=\"Open In Colab\"/></a>"
      ]
    },
    {
      "cell_type": "markdown",
      "id": "3eab0a63",
      "metadata": {
        "id": "3eab0a63"
      },
      "source": [
        "\n",
        "\n",
        "\n",
        "# Project objectives:\n",
        "- Understand what is  A* search algorithm is and how it works\n",
        "- Real Example of A* algorithm.\n",
        "- We will explain the difference between Manhattan, Euclidean, and Chebyshev distance.\n",
        "\n",
        "\n",
        "<div dir=\"rtl\">\n",
        "<h1>اهداف المشروع</h1>\n",
        "<ul>\n",
        "<li>فهم ما هي خوارزمية البحثِ A* وكيف تعمل.</li>\n",
        "<li>مثال حقيقي لخوارزمية A *.</li>\n",
        "<li>سنشرح الفرق بين عدة دوال مسافات.</li>\n",
        "</ul>\n",
        "</div>\n",
        "\n",
        "# Introduction:\n",
        "In this project, we will explain the A* search algorithm (Informed search algorithms) and how it depends on the principle of (Dijkstra) shortest path to give us a better and faster solution. Also, we will explain the difference between Manhattan, Euclidean, and Chebyshev distance when we are dealing with problems that are related to finding the shortest path between two things. It does this by introducing a heuristic element to decide the node that is supposed to be followed.\n",
        "\n",
        "<div dir=rtl>\n",
        "<h1>مقدمة:\n",
        "</h1>\n",
        "<p>في هذا المشروع ، سنشرح خوارزمية البحث A * (خوارزميات البحث الموجه) وكيف أنها تعتمد على مبدأ (Dijkstra) أقصر طريق لتزويدنا بحل أفضل وأسرع. سنشرح أيضًا الفرق بين مسافة مانهاتن والإقليدية عندما نتعامل مع مشاكل تتعلق بإيجاد أقصر طريق بين شيئين. يقوم بذلك عن طريق إدخال عنصر إرشادي لتحديد العقدة التي من المفترض اتباعها.</p>\n",
        "</div>\n",
        "\n",
        "\n",
        "# Route finding problem:\n",
        "we focused on finding a way to exit a maze by getting the shortest path by implementing the A* search algorithm and testing several heuristic functions to find the best one.\n",
        "\n",
        "<div dir=rtl>\n",
        "<h1>مشكلة البحث عن الطريق:</h1>\n",
        "<p>هدفنا على إيجاد طريقة للخروج من المتاهة عن طريق الحصول على أقصر طريق من خلال تنفيذ خوارزمية البحث A * باستخدام مانهاتن والمسافة الإقليدية.</p>\n",
        "</div>\n",
        "\n",
        "## Problem formulation:\n",
        "- Initial state: a selected square (start square)\n",
        "- Actions: North, South, East, West, North-East, South-East, South-West, North-West\n",
        "- State-space: 30X60 squares\n",
        "- Goal state: Exit the maze by going to the selected square(goal square).\n",
        "\n",
        "<div dir=rtl>\n",
        "<h2>صياغة المشكلة:</h2>\n",
        "<ul>\n",
        "<li>الحالة الأولية: مربع محدد (مربع البداية)</li>\n",
        "<li>الإجراءات: الشمال والجنوب والشرق والغرب، الشمال الشرقي، الجنوب الشرقي الجنوب الغربي، الشمال الغربي</li>\n",
        "<li>مساحة الدولة: 30X20 مربعات</li>\n",
        "<li>حالة الهدف: اخرج من المتاهة بالذهاب إلى المربع المحدد (حالة الهدف).\n",
        "</li>\n",
        "</ul>\n",
        "</div>\n",
        "\n",
        "![image info](https://github.com/AhmedAl-Sardi/a-star-algorithms/blob/jupyter/images/Maze.png?raw=1)\n"
      ]
    },
    {
      "cell_type": "markdown",
      "id": "bed5efb6",
      "metadata": {
        "id": "bed5efb6"
      },
      "source": [
        "# What is the A* search algorithm?\n",
        "A* is an informed search algorithm, sometimes known as a best-first search because it is written in terms of weighted graphs. Its goal is to discover the shortest path from a given starting node to a particular goal node (least distance traveled, shortest time, etc.). It accomplishes this by keeping track of a tree of pathways that begin at the start node and extending those paths one edge at a time until the termination requirement is met.\n",
        "<div dir=rtl>\n",
        "<h1>ما هي خوارزمية البحث A *؟</h1>\n",
        "<p>A * هي خوارزمية بحث مدروسة ، تُعرف أحيانًا باسم البحث الأفضل أولاً لأنها مكتوبة من حيث الرسوم البيانية الموزونة. هدفه هو اكتشاف أقصر مسار من عقدة بداية معينة إلى عقدة هدف معينة (أقل مسافة يتم قطعها ، أقصر وقت ، إلخ). يتم تحقيق ذلك من خلال تتبع شجرة المسارات التي تبدأ عند عقدة البداية وتمديد تلك المسارات حافة واحدة في كل مرة حتى يتم تلبية متطلبات الإنهاء.\n",
        "</p>\n",
        "</div>\n",
        "\n",
        "# Heuristic function?\n",
        "is a function in search algorithms that rates alternatives depending on available information at each branching step to determine which branch to take. There is 5 behavior for heuristic:\n",
        "1. If the heuristic is 0 then the actual cost g(n) will only be used, and A* will be turned into Dijkstra’s algorithms\n",
        "1. If the heuristic is lower than the actual path, then A* will guarantee the shortest path,  and the more heuristic being lower the more expanded node happens.\n",
        "1. If the heuristic is the same as an actual path, then A* will find the shortest path with exact step without expanding any unnecessary node\n",
        "1. If the heuristic is greater than the actual path, the A* may not guarantee the shortest path, but it will run faster\n",
        "1. If the heuristic is greater by an extreme factor, the A* will turn into Gready algorithms\n",
        "\n",
        "We will test most of these in this tutorial.\n",
        "\n",
        "<div dir=rtl>\n",
        "<h1>دوال التوقع؟</h1>\n",
        "<p>هي وظيفة في خوارزميات البحث تقوم بتصنيف البدائل بناءً على المعلومات المتاحة في كل خطوة من خطوات التفريع لتحديد الفرع الذي يجب اتخاذه. ولها عدة سلوك.\n",
        "</p>\n",
        "\n",
        "\n",
        "<p>سيتم اختبار معظمها في هذا البرنامج التعليمي.</p>\n",
        "</div>\n",
        "\n",
        "## Euclidean distance:\n",
        "Euclidean distance is The shortest path between source and destination or between a point and another, which is usually described by a straight line. It is useful for things like locating the closest hospital for an emergency helicopter flight. When constructing a suitability map, this tool may also be used to obtain data representing the distance from a certain item.\t\n",
        "\n",
        "$Euclidean\\ Distance = \\sqrt{(goal_x - location_x)^2 + (goal_y - location_y)^2}$\n",
        "\n",
        "\n",
        "<div dir=rtl>\n",
        "<h1>المسافة الإقليدية</h1>\n",
        "<p>\n",
        "المسافة الإقليدية هي أقصر مسار بين المصدر والوجهة أو بين نقطة وأخرى ، وعادة ما يتم وصفها بخط مستقيم. كما أنها مفيدة في تحديد موقع أقرب مستشفى لرحلة هليكوبتر طارئة. عند إنشاء خريطة ملاءمة ، يمكن أيضًا استخدام هذه الأداة للحصول على بيانات تمثل المسافة من عنصر معين.\n",
        "\n",
        "</p>\n",
        "</div>\n",
        "\n",
        "## Manhattan distance:\n",
        "If we need to determine the distance between two data points on a grid-like route, we utilize Manhattan distance. For Example, if we want to calculate the distance from a place to another and we are moved by a vehicle then we will consider that we will face a lot of obstacles or walls so in that case, we will need to turn in another direction to continue moving. So, we need to use Manhattan distance.\n",
        "\n",
        "$dx = |goal_x - location_x|$<br>\n",
        "$dy = |goal_y - location_y|$<br>\n",
        "$Manhatttan\\ Distance = dx + dy$<br>\n",
        "\n",
        "<div dir=rtl>\n",
        "<h1>مسافة مانهاتن\n",
        "</h1>\n",
        "<p>\n",
        "يتم استخدامها إذا احتجنا إلى تحديد المسافة بين نقطتي بيانات على مسار يشبه الشبكة ، فإننا نستخدم مسافة مانهاتن. على سبيل المثال ، إذا أردنا حساب المسافة من مكان إلى آخر ونحن نتحرك بواسطة مركبة ، فسنعتبر أننا سنواجه الكثير من العوائق أو الجدران ، لذلك في هذه الحالة ، سنحتاج إلى الالتفاف في اتجاه آخر لمواصلة التحرك. لذا في تلك الحالة يجب علينا استخدام مسافة مانهاتن.\n",
        "\n",
        "\n",
        "</p>\n",
        "</div>\n",
        "\n",
        "\n",
        "## Chebyshev distance:\n",
        "The biggest difference between two vectors along any coordinate dimension is known as the Chebyshev distance. To put it another way, it's the greatest distance along one axis. Because the smallest number of moves required by a king to move from one square to another is equal to Chebyshev distance, it is sometimes referred to as Chessboard distance.\n",
        "\n",
        "For example, it can be used in warehouse management to determine how long it takes an overhead crane to transfer an object (as the axis x and y of the crane can move at the same time and at the same speed along both axes).\n",
        "\n",
        "$dx = |goal_x - location_x|$<br>\n",
        "$dy = |goal_y - location_y|$<br>\n",
        "$Chebyshev\\ Distance = max(dx + dy)$<br>\n",
        "\n",
        "<div dir=rtl>\n",
        "<h1>مسافة تشيبيشيف\n",
        "</h1>\n",
        "<p>\n",
        "يُعرف الاختلاف الأكبر بين متجهين على طول أي بُعد إحداثي بمسافة تشيبيشيف. بعبارة أخرى ، إنها أكبر مسافة على محور واحد. نظرًا لأن أقل عدد من الحركات المطلوبة من قبل الملك للانتقال من مربع إلى آخر يساوي مسافة تشيبيشيف ، يشار إليها أحيانًا باسم مسافة رقعة الشطرنج.\n",
        "\n",
        "على سبيل المثال ، يمكن استخدامه في إدارة المستودعات لتحديد المدة التي تستغرقها الرافعة العلوية لنقل عنصر (حيث يمكن أن يتحرك المحور x و y للرافعة في نفس الوقت وبنفس السرعة على طول كلا المحورين).\n",
        "</p>\n",
        "</div>\n",
        "\n",
        "![image info](https://github.com/AhmedAl-Sardi/a-star-algorithms/blob/jupyter/images/heuristic.png?raw=1)\n"
      ]
    },
    {
      "cell_type": "markdown",
      "id": "e2ff1c4a",
      "metadata": {
        "id": "e2ff1c4a"
      },
      "source": [
        "# A* Algorithm:\n",
        "Like Dijkstra, A* works by making a most minimal expense way tree from the beginning hub to the objective hub. What makes A* unique and better for some hunts is that for every hub, A* utilizes a capacity f(n) that gives a gauge of the absolute expense of a way utilizing that hub. Consequently, A* is a heuristic capacity, which contrasts from a calculation in that a heuristic is a greater amount of a gauge and isn't really provably right.\n",
        "\n",
        "<div dir=rtl>\n",
        "مثل Dijkstra ، تعمل A * عن طريق إنشاء شجرة طريقة بأقل تكلفة ممكنة من مركز البداية إلى المحور الموضوعي. ما يجعل A * فريدًا وأفضل بالنسبة لبعض عمليات البحث هو أنه بالنسبة لكل محور ، يستخدم A * السعة التي توفر مقياسًا للنفقات المطلقة لطريقة استخدام هذا المحور. وبالتالي ، فإن A * هي قدرة استكشافية ، والتي تتناقض مع الحساب من حيث أن الاستدلال هو قدر أكبر من المقياس وليس صحيحًا بشكل يمكن إثباته\n",
        "</div>\n",
        "\n",
        "We will start implementing the minimum environment for A* to work, then we will take what we learn and change it to interactive and visualize GUI to increase our understanding of the algorithm.\n",
        "## Preparation:\n",
        "Before starting to implement A*, we need an environment for A* to work on. To recap, what we will implement is a maze in the shape of a grid, each cell in the grid will have a value that will be stored in a two-dimensional array, the maze will represent as follow:\n",
        "\n",
        "<div dir=rtl>\n",
        "<h1>استعدادات </h1>\n",
        "<p>\n",
        "استعدادات : قبل البدء في تنفيذ A * ، نحتاج إلى بيئة لـ A * للعمل عليها. للتلخيص ، ما سنقوم بتنفيذه هو متاهة على شكل شبكة ، كل خلية في الشبكة سيكون لها قيمة سيتم تخزينها في مصفوفة ثنائية الأبعاد ، وسوف تمثل المتاهة على النحو التالي:\n",
        "</p>\n",
        "</div>\n",
        "\n",
        "![image info](https://github.com/AhmedAl-Sardi/a-star-algorithms/blob/jupyter/images/Grid.png?raw=1)\n",
        "\n",
        "It starts from the top left as (0, 0) to the bottom-right (9, 12). Each cell will have the ability to either go in 4 directions or 8 directions. The direction will be controlled by the user.\n",
        "\n",
        "<div dir=rtl>\n",
        "\n",
        "<p>\n",
        "يبدأ من أعلى اليسار كـ (0 ، 0) إلى أسفل اليمين (9 ، 12). سيكون لكل خلية القدرة على الذهاب في 4 اتجاهات أو 8 اتجاهات. سيتم التحكم في الاتجاه من قبل المستخدم.\n",
        "</p>\n",
        "</div>\n",
        "\n",
        "![image info](https://github.com/AhmedAl-Sardi/a-star-algorithms/blob/jupyter/images/Direction.png?raw=1)\n",
        "\n",
        "## Implementation:\n",
        "We will start implementing the minimum environment for A* to work, then we will take what we learn and change it to interactive and visualize GUI to increase our understanding of the algorithm.\n",
        "\n",
        "We will start with Location and Cell type:\n",
        "In the terminal version, each cell will have is represented as a string value and the value of location will change depending on the action of A*.<br>\n",
        "Each cell can be located by the number of rows and columns, so we used class Location as tuple to clean our code\n",
        "\n",
        "<div dir=rtl>\n",
        "<h1>طريقه التطبيق </h1>\n",
        "<p>\n",
        "سنبدأ في تنفيذ الحد الأدنى من بيئة عمل A * ، ثم سنأخذ ما نتعلمه ونغيره إلى تفاعلية ونصوّر واجهة المستخدم الرسومية لزيادة فهمنا للخوارزمية.\n",
        "</p>\n",
        "<P>سنبدأ بالموقع ونوع الخلية:</P>\n",
        "<p>في الإصدار الطرفي ، سيتم تمثيل كل خلية كقيمة سلسلة وستتغير قيمة الموقع اعتمادًا على إجراء A *.\n",
        "يمكن تحديد موقع كل خلية من خلال عدد الصفوف والأعمدة ، لذلك استخدمنا class Location كمصفوفة لتنظيف الكود الخاص بنا\n",
        "</p>\n",
        "</div>\n"
      ]
    },
    {
      "cell_type": "code",
      "execution_count": null,
      "id": "69a8e8bd",
      "metadata": {
        "id": "69a8e8bd"
      },
      "outputs": [],
      "source": [
        "from enum import Enum\n",
        "from typing import NamedTuple\n",
        "\n",
        "\n",
        "class Cell(str, Enum):\n",
        "    BLOCK = \"#\"\n",
        "    START = \"S\"\n",
        "    GOAL = \"G\"\n",
        "    PATH = \"*\"\n",
        "    EMPTY = \" \"\n",
        "\n",
        "class Location(NamedTuple):\n",
        "    row: int\n",
        "    column: int"
      ]
    },
    {
      "cell_type": "markdown",
      "source": [
        "The maze class will be responsible for representing the maze in the terminal and handling other responsibilities as we will explain in the upcoming cells.\n",
        "\n",
        "<div dir=rtl>\n",
        "<p>ستكون فئة المتاهة مسؤولة عن تمثيل المتاهة في المحطة والتعامل مع المسؤوليات الأخرى كما سنشرح في الخلايا القادمة\n",
        "</p>\n",
        "\n",
        "</div>"
      ],
      "metadata": {
        "id": "WO1KDeMgnwnx"
      },
      "id": "WO1KDeMgnwnx"
    },
    {
      "cell_type": "code",
      "execution_count": null,
      "id": "534e54ad",
      "metadata": {
        "id": "534e54ad"
      },
      "outputs": [],
      "source": [
        "import random\n",
        "from typing import List\n",
        "\n",
        "\n",
        "class Maze:\n",
        "    def __init__(self, rows: int, columns: int, start_location: Location, goal_location: Location):\n",
        "        self._rows = rows\n",
        "        self._columns = columns\n",
        "        self._start: Location = start_location\n",
        "        self._goal: Location = goal_location\n",
        "        self._grid = [[Cell.EMPTY for _ in range(columns)]\n",
        "                      for _ in range(rows)]\n",
        "        self._grid[start_location.row][start_location.column] = Cell.START\n",
        "        self._grid[goal_location.row][goal_location.column] = Cell.GOAL\n",
        "        self._fill_random()\n",
        "\n",
        "    "
      ]
    },
    {
      "cell_type": "markdown",
      "source": [
        "The goal_check will be used by the A* to check if the current cell is the goal or not, it’s a simple method that takes a location and compares it with the goal, and returns a boolean.\n",
        "\n",
        "<div dir=rtl>\n",
        "<p>سيتم استخدام goal_check  بواسطة A * للتحقق مما إذا كانت الخلية الحالية هي الهدف أم لا ، إنها طريقة بسيطة تأخذ موقعًا وتقارنه بالهدف ، وتعيد قيمة منطقية.\n",
        "</p>\n",
        "\n",
        "</div>"
      ],
      "metadata": {
        "id": "XCwMGxM4o2um"
      },
      "id": "XCwMGxM4o2um"
    },
    {
      "cell_type": "code",
      "execution_count": null,
      "id": "M_eRCx2TjMBV",
      "metadata": {
        "id": "M_eRCx2TjMBV",
        "colab": {
          "base_uri": "https://localhost:8080/",
          "height": 131
        },
        "outputId": "3bf9b772-403e-4335-c82d-c7a61490c2ad"
      },
      "outputs": [
        {
          "output_type": "error",
          "ename": "IndentationError",
          "evalue": "ignored",
          "traceback": [
            "\u001b[0;36m  File \u001b[0;32m\"<ipython-input-3-534026e47d23>\"\u001b[0;36m, line \u001b[0;32m2\u001b[0m\n\u001b[0;31m    def goal_check(self, location: Location) -> bool:\u001b[0m\n\u001b[0m    ^\u001b[0m\n\u001b[0;31mIndentationError\u001b[0m\u001b[0;31m:\u001b[0m unexpected indent\n"
          ]
        }
      ],
      "source": [
        "\n",
        "    def goal_check(self, location: Location) -> bool:\n",
        "        \"\"\"\n",
        "        Check if the location is the same as the goal\n",
        "        :param location\n",
        "        :return: bool\n",
        "        \"\"\"\n",
        "        return self._goal == location\n",
        "\n",
        "    "
      ]
    },
    {
      "cell_type": "markdown",
      "source": [
        "The mark method takes a list of locations and marks each of these locations as visited in the grid, this method will be used to if the solution exists to show the path from start point to goal point.\n",
        "<div dir=rtl>\n",
        "<p>تأخذ طريقة العلامة قائمة بالمواقع وتميز كل موقع من هذه المواقع كما تمت زيارتها في الشبكة ، وسيتم استخدام هذه الطريقة في حالة وجود الحل لإظهار المسار من نقطة البداية إلى نقطة الهدف\n",
        "</p>\n",
        "\n",
        "</div>"
      ],
      "metadata": {
        "id": "owAEJD9Ppqed"
      },
      "id": "owAEJD9Ppqed"
    },
    {
      "cell_type": "code",
      "execution_count": null,
      "id": "__Di_B5-jQkT",
      "metadata": {
        "id": "__Di_B5-jQkT"
      },
      "outputs": [],
      "source": [
        "    def mark(self, paths: List[Location]):\n",
        "        \"\"\"\n",
        "        Mark all the location in the path as PATH\n",
        "        :param paths: List of location\n",
        "        \"\"\"\n",
        "        for location in paths:\n",
        "            self._grid[location.row][location.column] = Cell.PATH\n",
        "        self._grid[self._start.row][self._start.column] = Cell.START\n",
        "        self._grid[self._goal.row][self._goal.column] = Cell.GOAL"
      ]
    },
    {
      "cell_type": "markdown",
      "source": [
        "This method will represent the maze in the terminal, for each cell in the grid, add the value to the variable *output* then return the *output* variable.\n",
        "<div dir=rtl>\n",
        "<p>ستمثل هذه الطريقة المتاهة في المحطة الطرفية ، لكل خلية في الشبكة ، قم بإضافة القيمة إلى الناتج المتغير ثم إرجاع متغير الإخراج\n",
        "</p>\n",
        "\n",
        "</div>"
      ],
      "metadata": {
        "id": "z7j8MRJ6qMPB"
      },
      "id": "z7j8MRJ6qMPB"
    },
    {
      "cell_type": "code",
      "execution_count": null,
      "id": "sjYy2Am7jUix",
      "metadata": {
        "id": "sjYy2Am7jUix"
      },
      "outputs": [],
      "source": [
        "    def __str__(self):\n",
        "        \"\"\"\n",
        "        represent maze in the terminal\n",
        "        :return: maze representation: str\n",
        "        \"\"\"\n",
        "        output = \"\"\n",
        "        for row in self._grid:\n",
        "            output += \"\".join([cell.value for cell in row]) + \"\\n\"\n",
        "        return output\n",
        "\n",
        "    "
      ]
    },
    {
      "cell_type": "markdown",
      "source": [
        "The successor function takes location and if diagonal movement is allowed, then it will return the list of all possible locations, it will check if the location is inside the boundary, and the location isn’t BLOCK, if these two conditions are met, it will be considered as a possible location.\n",
        "<div dir=rtl>\n",
        "<p>سوف تأخذ الوظيفة اللاحقة موقعًا وإذا تم السماح بالحركة القطرية ، فستعيد قائمة بجميع المواقع الممكنة ، و تتحقق مما إذا كان الموقع داخل الحدود والموقع لا يحتوي على عائق، إذا تم استيفاء بهذين الشرطين ، سيتم اعتباره موقعًا محتملًا.\n",
        "</p>\n",
        "\n",
        "</div>"
      ],
      "metadata": {
        "id": "GxbrNOOqq_t4"
      },
      "id": "GxbrNOOqq_t4"
    },
    {
      "cell_type": "code",
      "execution_count": null,
      "id": "Ul_4A0e0jaTl",
      "metadata": {
        "id": "Ul_4A0e0jaTl"
      },
      "outputs": [],
      "source": [
        "    def successor(self, location: Location, allow_diagonal=False) -> List[Location]:\n",
        "        \"\"\"\n",
        "        Given a location, return all the possible state of the location\n",
        "        :param location\n",
        "        :param allow_diagonal: default False\n",
        "        :return: list of available location\n",
        "        \"\"\"\n",
        "        list_of_neighbor: List[Location] = []\n",
        "        if location.column - 1 >= 0 and self._grid[location.row][location.column - 1] != Cell.BLOCK:\n",
        "            list_of_neighbor.append(Location(location.row, location.column - 1))\n",
        "        if location.row + 1 < self._rows and self._grid[location.row + 1][location.column] != Cell.BLOCK:\n",
        "            list_of_neighbor.append(Location(location.row + 1, location.column))\n",
        "        if location.column + 1 < self._columns and self._grid[location.row][location.column + 1] != Cell.BLOCK:\n",
        "            list_of_neighbor.append(Location(location.row, location.column + 1))\n",
        "        if location.row - 1 >= 0 and self._grid[location.row - 1][location.column] != Cell.BLOCK:\n",
        "            list_of_neighbor.append(Location(location.row - 1, location.column))\n",
        "        if not allow_diagonal:\n",
        "            return list_of_neighbor\n",
        "        # top-right\n",
        "        if (location.column - 1 >= 0 and location.row + 1 < self._rows) and self._grid[\n",
        "            location.row + 1][location.column - 1] != Cell.BLOCK:\n",
        "            list_of_neighbor.append(Location(location.row + 1, location.column - 1))\n",
        "        # bottom-right\n",
        "        if (location.column + 1 < self._columns and location.row + 1 < self._rows) and self._grid[\n",
        "            location.row + 1][location.column + 1] != Cell.BLOCK:\n",
        "            list_of_neighbor.append(Location(location.row + 1, location.column + 1))\n",
        "        # bottom - left\n",
        "        if (location.column + 1 < self._columns and location.row - 1 >= 0) and self._grid[\n",
        "            location.row - 1][location.column + 1] != Cell.BLOCK:\n",
        "            list_of_neighbor.append(Location(location.row - 1, location.column + 1))\n",
        "        # top-left\n",
        "        if (location.column - 1 >= 0 and location.row - 1 >= 0) and self._grid[\n",
        "            location.row - 1][location.column - 1] != Cell.BLOCK:\n",
        "            list_of_neighbor.append(Location(location.row - 1, location.column - 1))\n",
        "        return list_of_neighbor\n",
        "\n",
        "    "
      ]
    },
    {
      "cell_type": "markdown",
      "source": [
        "This is a utility function that fill the maze with random BLOCK.\n",
        "<div dir=rtl>\n",
        "<p>هذه داله مساعدة تملأ المتاهة  بحواجز عشوائية.\n",
        "</p>\n",
        "\n",
        "</div>"
      ],
      "metadata": {
        "id": "Woo-U_kjr9Y9"
      },
      "id": "Woo-U_kjr9Y9"
    },
    {
      "cell_type": "code",
      "execution_count": null,
      "id": "9_QhSIA9i5qY",
      "metadata": {
        "id": "9_QhSIA9i5qY"
      },
      "outputs": [],
      "source": [
        "    def _fill_random(self):\n",
        "        \"\"\"\n",
        "        Create random block, each cell have 0.2 chance to be BLOCK \n",
        "        \"\"\"\n",
        "        for i, row in enumerate(self._grid):\n",
        "            for j, value in enumerate(row):\n",
        "                if value == Cell.EMPTY and random.uniform(0, 1) < 0.2:\n",
        "                    self._grid[i][j] = Cell.BLOCK\n"
      ]
    },
    {
      "cell_type": "markdown",
      "source": [
        "The full class"
      ],
      "metadata": {
        "id": "XjCRENdJseL_"
      },
      "id": "XjCRENdJseL_"
    },
    {
      "cell_type": "code",
      "execution_count": null,
      "id": "whEr342izbPS",
      "metadata": {
        "id": "whEr342izbPS"
      },
      "outputs": [],
      "source": [
        "import random\n",
        "from typing import List\n",
        "\n",
        "\n",
        "class Maze:\n",
        "    def __init__(self, rows: int, columns: int, start_location: Location, goal_location: Location):\n",
        "        self._rows = rows\n",
        "        self._columns = columns\n",
        "        self._start: Location = start_location\n",
        "        self._goal: Location = goal_location\n",
        "        self._grid = [[Cell.EMPTY for _ in range(columns)]\n",
        "                      for _ in range(rows)]\n",
        "        self._grid[start_location.row][start_location.column] = Cell.START\n",
        "        self._grid[goal_location.row][goal_location.column] = Cell.GOAL\n",
        "        self._fill_random()\n",
        "\n",
        "    def successor(self, location: Location, allow_diagonal=False) -> List[Location]:\n",
        "        \"\"\"\n",
        "        Given a location, return all the possible state of the location\n",
        "        :param location\n",
        "        :param allow_diagonal: default False\n",
        "        :return: list of available location\n",
        "        \"\"\"\n",
        "        list_of_neighbor: List[Location] = []\n",
        "        if location.column - 1 >= 0 and self._grid[location.row][location.column - 1] != Cell.BLOCK:\n",
        "            list_of_neighbor.append(Location(location.row, location.column - 1))\n",
        "        if location.row + 1 < self._rows and self._grid[location.row + 1][location.column] != Cell.BLOCK:\n",
        "            list_of_neighbor.append(Location(location.row + 1, location.column))\n",
        "        if location.column + 1 < self._columns and self._grid[location.row][location.column + 1] != Cell.BLOCK:\n",
        "            list_of_neighbor.append(Location(location.row, location.column + 1))\n",
        "        if location.row - 1 >= 0 and self._grid[location.row - 1][location.column] != Cell.BLOCK:\n",
        "            list_of_neighbor.append(Location(location.row - 1, location.column))\n",
        "        if not allow_diagonal:\n",
        "            return list_of_neighbor\n",
        "        # top-right\n",
        "        if (location.column - 1 >= 0 and location.row + 1 < self._rows) and self._grid[\n",
        "            location.row + 1][location.column - 1] != Cell.BLOCK:\n",
        "            list_of_neighbor.append(Location(location.row + 1, location.column - 1))\n",
        "        # bottom-right\n",
        "        if (location.column + 1 < self._columns and location.row + 1 < self._rows) and self._grid[\n",
        "            location.row + 1][location.column + 1] != Cell.BLOCK:\n",
        "            list_of_neighbor.append(Location(location.row + 1, location.column + 1))\n",
        "        # bottom - left\n",
        "        if (location.column + 1 < self._columns and location.row - 1 >= 0) and self._grid[\n",
        "            location.row - 1][location.column + 1] != Cell.BLOCK:\n",
        "            list_of_neighbor.append(Location(location.row - 1, location.column + 1))\n",
        "        # top-left\n",
        "        if (location.column - 1 >= 0 and location.row - 1 >= 0) and self._grid[\n",
        "            location.row - 1][location.column - 1] != Cell.BLOCK:\n",
        "            list_of_neighbor.append(Location(location.row - 1, location.column - 1))\n",
        "        return list_of_neighbor\n",
        "\n",
        "    def goal_check(self, location: Location) -> bool:\n",
        "        \"\"\"\n",
        "        Check if the location is the same as the goal\n",
        "        :param location\n",
        "        :return: bool\n",
        "        \"\"\"\n",
        "        return self._goal == location\n",
        "\n",
        "    def mark(self, paths: List[Location]):\n",
        "        \"\"\"\n",
        "        Mark all the location in the path as PATH\n",
        "        :param paths: List of location\n",
        "        \"\"\"\n",
        "        for location in paths:\n",
        "            self._grid[location.row][location.column] = Cell.PATH\n",
        "        self._grid[self._start.row][self._start.column] = Cell.START\n",
        "        self._grid[self._goal.row][self._goal.column] = Cell.GOAL\n",
        "\n",
        "    def __str__(self):\n",
        "        \"\"\"\n",
        "        represent maze in the terminal\n",
        "        :return: maze representation: str\n",
        "        \"\"\"\n",
        "        output = \"\"\n",
        "        for row in self._grid:\n",
        "            output += \"\".join([cell.value for cell in row]) + \"\\n\"\n",
        "        return output\n",
        "\n",
        "    def _fill_random(self):\n",
        "        \"\"\"\n",
        "        Create random block, each cell have 0.2 chance to be BLOCK \n",
        "        \"\"\"\n",
        "        for i, row in enumerate(self._grid):\n",
        "            for j, value in enumerate(row):\n",
        "                if value == Cell.EMPTY and random.uniform(0, 1) < 0.2:\n",
        "                    self._grid[i][j] = Cell.BLOCK"
      ]
    },
    {
      "cell_type": "markdown",
      "id": "98f9ea4c",
      "metadata": {
        "id": "98f9ea4c"
      },
      "source": [
        "For A* to work in a maze it needs a Node that holds the location, where it comes from, the cost to this location, and heuristic value to the goal.\n",
        "\n",
        "<div dir=rtl>\n",
        "<p>لكي تعمل A * في متاهة ، فإنها تحتاج إلى عقدة تحتوي على الموقع ، ومن أين أتت ، وتكلفة هذا الموقع ، والقيمة الإرشادية للهدف.\n",
        "</p>\n",
        "\n",
        "</div>\n"
      ]
    },
    {
      "cell_type": "code",
      "execution_count": null,
      "id": "bc280WmfbxyQ",
      "metadata": {
        "id": "bc280WmfbxyQ"
      },
      "outputs": [],
      "source": [
        "class Node:\n",
        "    def __init__(self, location: Location, parent, cost: int, heuristic: float):\n",
        "        \"\"\"\n",
        "        Initialize for Node \n",
        "        :param location: where the node located in the maze\n",
        "        :param parent: the previous location\n",
        "        :param cost: the actual cost from the start to this location\n",
        "        :param heuristic: the heuristic value to reach the goal\n",
        "        \"\"\"\n",
        "        self.location = location\n",
        "        self.parent = parent\n",
        "        self.cost = cost\n",
        "        self.heuristic = heuristic\n",
        "\n",
        "    def __lt__(self, other):\n",
        "        \"\"\"\n",
        "        This method will be used by the priority queue to determine the lower value\n",
        "        :param other\n",
        "        :return: bool\n",
        "        \"\"\"\n",
        "        return (self.cost + self.heuristic) < (other.cost + other.heuristic)\n",
        "    "
      ]
    },
    {
      "cell_type": "markdown",
      "source": [
        "We will use the Priority queue as a data structure that holds the data of the node. We use the built-in function heappush and heappop, the priority queue will add more efficiency instead of using a linear search to find the smallest value.\n",
        "\n",
        "<div dir=rtl>\n",
        "<p>سنستخدم قائمة انتظار الأولوية كهيكل بيانات يحتفظ ببيانات العقدة. كما أننا سنستخدم وظيفة مدمجة heappush و heappop ، وستضيف قائمة الانتظار ذات الأولوية مزيدًا من الكفاءة بدلاً من استخدام البحث الخطي للعثور على أصغر قيمة.\n",
        "</p>\n",
        "\n",
        "</div>"
      ],
      "metadata": {
        "id": "hP2nKyYzs6nV"
      },
      "id": "hP2nKyYzs6nV"
    },
    {
      "cell_type": "code",
      "execution_count": null,
      "id": "670d2421",
      "metadata": {
        "id": "670d2421"
      },
      "outputs": [],
      "source": [
        "from heapq import heappop, heappush\n",
        "\n",
        "class PriorityQueue:\n",
        "    \"\"\"\n",
        "    We will use the built-in implementation for adding Node and pulling Node from the list\n",
        "    \"\"\"\n",
        "    def __init__(self):\n",
        "        \"\"\"\n",
        "        Initialize the list\n",
        "        \"\"\"\n",
        "        self._list = []\n",
        "\n",
        "    @property\n",
        "    def empty(self):\n",
        "        \"\"\"Checking property if the list is empty\"\"\"\n",
        "        return not self._list\n",
        "\n",
        "\n",
        "\n",
        "    def push(self, node: Node):\n",
        "        \"\"\"\n",
        "        Adding element using heappush method from python\n",
        "        :param node: Node\n",
        "        \"\"\"\n",
        "        heappush(self._list, node)\n",
        "\n",
        "    def pop(self) -> Node:\n",
        "        \"\"\"\n",
        "        Return the lower value in the list using the heappop from python\n",
        "        :return: Node\n",
        "        \"\"\"\n",
        "        return heappop(self._list)"
      ]
    },
    {
      "cell_type": "markdown",
      "id": "00c4ae88",
      "metadata": {
        "id": "00c4ae88"
      },
      "source": [
        "These are the implementation of the heuristic function, as we explained above and this the formula for recap:\n",
        "$Euclidean\\ Distance = \\sqrt{(goal_x - location_x)^2 + (goal_y - location_y)^2}$\n",
        "\n",
        "<div dir=rtl>\n",
        "<p>هذه هي تنفيذ الوظيفة الارشادية، كما أوضحنا أعلاه ، وهذه هي الصيغة للتذكير:\n",
        "</p>\n",
        "</div>"
      ]
    },
    {
      "cell_type": "code",
      "execution_count": null,
      "id": "2339807c",
      "metadata": {
        "id": "2339807c"
      },
      "outputs": [],
      "source": [
        "from typing import Callable\n",
        "\n",
        "def euclidean_distance(goal: Location) -> Callable[[Location], float]:\n",
        "    def distance(location: Location):\n",
        "        return sqrt((goal.row - location.row) ** 2 + (goal.column - location.column) ** 2)\n",
        "\n",
        "    return distance\n"
      ]
    },
    {
      "cell_type": "markdown",
      "source": [
        "$dx = |goal_x - location_x|$<br>\n",
        "$dy = |goal_y - location_y|$<br>\n",
        "$Manhatttan\\ Distance = dx + dy$<br>"
      ],
      "metadata": {
        "id": "5EpwUizpvSBy"
      },
      "id": "5EpwUizpvSBy"
    },
    {
      "cell_type": "code",
      "execution_count": null,
      "id": "doAuultib6WF",
      "metadata": {
        "id": "doAuultib6WF"
      },
      "outputs": [],
      "source": [
        "def manhattan_distance(goal: Location) -> Callable[[Location], float]:\n",
        "    def distance(location: Location):\n",
        "        return abs(goal.row - location.row) + abs(goal.column - location.column)\n",
        "\n",
        "    return distance\n"
      ]
    },
    {
      "cell_type": "markdown",
      "source": [
        "$dx = |goal_x - location_x|$<br>\n",
        "$dy = |goal_y - location_y|$<br>\n",
        "$Chebyshev\\ Distance = max(dx + dy)$<br>"
      ],
      "metadata": {
        "id": "iYz4ZQWkvNsu"
      },
      "id": "iYz4ZQWkvNsu"
    },
    {
      "cell_type": "code",
      "execution_count": null,
      "id": "DmbiHEkQb9C9",
      "metadata": {
        "id": "DmbiHEkQb9C9"
      },
      "outputs": [],
      "source": [
        "def chebyshev_distance(goal: Location) -> Callable[[Location], float]:\n",
        "    def distance(location: Location):\n",
        "        dx = abs(goal.row - location.row)\n",
        "        dy = abs(goal.column - location.column)\n",
        "        return max(dx, dy)\n",
        "        \n",
        "    return distance"
      ]
    },
    {
      "cell_type": "markdown",
      "source": [
        "This function will work as traceback from the giving location to the start location, it will help us get the shortest path.\n",
        "\n",
        "<div dir=rtl>\n",
        "<p>ستعمل هذه الوظيفة للتتبع من الموقع المحدد إلى موقع البدء ، ستساعدنا في الحصول على أقصر مسار.\n",
        "</p>\n",
        "</div>"
      ],
      "metadata": {
        "id": "vSvRH-iZveMm"
      },
      "id": "vSvRH-iZveMm"
    },
    {
      "cell_type": "code",
      "execution_count": null,
      "id": "X202m5wqb-uh",
      "metadata": {
        "id": "X202m5wqb-uh"
      },
      "outputs": [],
      "source": [
        "def path_to_node(node: Node):\n",
        "    \"\"\"Return the list from the giving node to the start node\"\"\"\n",
        "    path = []\n",
        "    while node is not None:\n",
        "        path.append(node.location)\n",
        "        node = node.parent\n",
        "    return path[::-1]"
      ]
    },
    {
      "cell_type": "markdown",
      "id": "4d313b80",
      "metadata": {
        "id": "4d313b80"
      },
      "source": [
        "## A*:\n",
        "Now we can start to implement A* after all these preparation. A* is a straightforward and simple algorithm, to work it need:\n",
        "- Starting location: the starting location of the maze.\n",
        "- Goal testing: function to test is the current location is the goal.\n",
        "- Successor: a function that takes location and returns all the possible location.\n",
        "- Heuristic: a function that estimates the distance between location and goal.\n",
        "We will store all nodes that need to be explored in the priority queue to increase the performance and will use a dictionary for location and cost associated with it.\n",
        "\n",
        "<div dir=rtl>\n",
        "<p>\n",
        "الآن يمكننا البدء في تنفيذ A * بعد كل هذه الاستعدادات. A * هي خوارزمية مباشرة وبسيطة ، للعمل تحتاج:\n",
        "<ul>\n",
        "<li>موقع البداية: موقع بداية المتاهة.</li>\n",
        "<li>اختبار الهدف: الوظيفة المراد اختبارها هي الموقع الحالي هو الهدف.</li>\n",
        "<li>الوريث: وظيفة تأخذ الموقع وتعيد جميع المواقع الممكنة.</li>\n",
        "<li>الدالة الارشادية: دالة تقدر المسافة بين الموقع والهدف. ستخزن جميع العقد التي يجب استكشافها في قائمة انتظار الأولوية لزيادة الأداء وسنستخدم قاموسًا للموقع والتكلفة المرتبطة به.</li>\n",
        "</ul>\n",
        "</p>\n",
        "</div>"
      ]
    },
    {
      "cell_type": "code",
      "execution_count": null,
      "id": "2e392853",
      "metadata": {
        "id": "2e392853"
      },
      "outputs": [],
      "source": [
        "def a_star(start: Location, goal_check: Callable[[Location], bool],\n",
        "          successor: Callable[[Location, bool], List[Location]], heuristic: Callable[[Location], float],\n",
        "          allow_diagonal: bool):\n",
        "   \"\"\"\n",
        "   Implementation of A* algorithms\n",
        "   :param start: start location\n",
        "   :param goal_check: reference of the method to test if the location is the goal\n",
        "   :param successor: reference of the method to get all the available locations from giving the location\n",
        "   :param heuristic: reference of the method to get the heuristic cost of giving location to goal location\n",
        "   :param allow_diagonal: allow for diagonal movement\n",
        "   :return:\n",
        "   \"\"\"\n",
        "   frontier = PriorityQueue()\n",
        "   node = Node(start, None, 0, heuristic(start))\n",
        "   frontier.push(node)\n",
        "   explored: Dict[Location, int] = {start: 0}\n",
        "   while not frontier.empty:\n",
        "       current_node = frontier.pop()\n",
        "       if goal_check(current_node.location):\n",
        "           return current_node\n",
        "       for child in successor(current_node.location, allow_diagonal=allow_diagonal):\n",
        "           new_cost = current_node.cost + 1\n",
        "           if child not in explored or explored[child] > new_cost:\n",
        "               frontier.push(Node(child, current_node, new_cost, heuristic(child)))\n",
        "               explored[child] = new_cost\n",
        "   return None # No solution found!"
      ]
    },
    {
      "cell_type": "markdown",
      "id": "32fb3106",
      "metadata": {
        "id": "32fb3106"
      },
      "source": [
        "## Testing:\n",
        "After implementing A*, we can start testing all things together.\n",
        "<div dir=rtl>\n",
        "<p>بعد تطبيق A * ، يمكننا البدء في اختبار كل الأشياء معًا.</p>\n",
        "</div>"
      ]
    },
    {
      "cell_type": "code",
      "execution_count": null,
      "id": "18681944",
      "metadata": {
        "colab": {
          "base_uri": "https://localhost:8080/"
        },
        "id": "18681944",
        "outputId": "f6c07f1f-d0bd-4e73-f91b-b7ca71d4af40",
        "scrolled": true
      },
      "outputs": [
        {
          "output_type": "stream",
          "name": "stdout",
          "text": [
            "S        ## #        #  #     \n",
            "#     #        # #  #  #  ##  \n",
            "    #           ##  ## #      \n",
            "     #        #  #            \n",
            "     #        #  #  #    #    \n",
            "   ##           ##            \n",
            "        #    #  #  # # ##     \n",
            "    #      #  #               \n",
            " #        #         #         \n",
            "  ###        ### # #     #    \n",
            "       #     #  #    ### # #  \n",
            "#   #    #         ##         \n",
            "#  #   #   #    ##           #\n",
            "#   #  ##    ##  #   ## # # # \n",
            "#   #    #    #             # \n",
            "   #  #                      #\n",
            "#            # #     #   # #  \n",
            "               #            # \n",
            "       #        #    #   #    \n",
            "           #             #   G\n",
            "\n",
            "S*       ## #        #  #     \n",
            "#*    #        # #  #  #  ##  \n",
            " *  #           ##  ## #      \n",
            " *   #        #  #            \n",
            " *   #        #  #  #    #    \n",
            " * ##           ##            \n",
            " *      #    #  #  # # ##     \n",
            " ** #      #  #               \n",
            " #****    #         #         \n",
            "  ###*       ### # #     #    \n",
            "     * #     #  #    ### # #  \n",
            "#   #****#         ##         \n",
            "#  #   #** #    ##           #\n",
            "#   #  ##**  ##  #   ## # # # \n",
            "#   #    #*   #             # \n",
            "   #  #   *******            #\n",
            "#            # #*****#   # #  \n",
            "               #    ******* # \n",
            "       #        #    #   #**  \n",
            "           #             # **G\n",
            "\n"
          ]
        }
      ],
      "source": [
        "start = Location(0, 0)\n",
        "goal = Location(19, 29)\n",
        "euclidean_heuristic = euclidean_distance(goal)\n",
        "manhattan_heuristic = manhattan_distance(goal)\n",
        "chebyshev_heuristic = chebyshev_distance(goal)\n",
        "maze: Maze = Maze(20, 30, start, goal)\n",
        "solution: Node = a_star(start, maze.goal_check, maze.successor, manhattan_heuristic, False)\n",
        "print(maze)\n",
        "if not solution:\n",
        "   print(\"No solution is found\")\n",
        "else:\n",
        "   path = path_to_node(solution)\n",
        "   maze.mark(path)\n",
        "   print(maze)"
      ]
    },
    {
      "cell_type": "markdown",
      "id": "032b8aca",
      "metadata": {
        "id": "032b8aca"
      },
      "source": [
        "# Part 2: Implementing Interactive A*:\n",
        "We will implement A* using pygame library, and before starting with the code, we need some architecture to help us implement the code.\n",
        "We will have 4 classes each class will have :\n",
        "- Maze: will be responsible for handling user input and placing it in the maze \n",
        "- MazeController: will be responsible for handling user input and making the change in the maze\n",
        "- AStar: will be responsible for searching \n",
        "- SearchController: will be responsible for handling configuration of AStar\n",
        "\n",
        "We will also modify the Cell class and change it from string to tuple that contains RGB values\n",
        "<div dir=rtl>\n",
        "<p>سنقوم بتنفيذ A * باستخدام مكتبة pygame ، وقبل البدء بالشفرة ، نحتاج إلى بعض الهندسة المعمارية لمساعدتنا في تنفيذ الكود.سيكون لدينا 4 فصول لكل فصل\n",
        "<ul>\n",
        "<li>المتاهة: ستكون مسؤولة عن التعامل مع مدخلات المستخدم ووضعها في المتاهة\n",
        "</li>\n",
        "<li>MazeController: سيكون مسؤولاً عن التعامل مع مدخلات المستخدم وإجراء التغيير في المتاهة\n",
        "</li>\n",
        "<li>A*: سيكون مسؤولاً عن البحث\n",
        "</li>\n",
        "<li>SearchController: سيكون مسؤولاً عن التعامل مع تكوين A*\n",
        "</li>\n",
        "</ul>\n",
        "سنقوم أيضًا بتعديل فئة الخلية وتغييرها من سلسلة إلى بنية تحتوي على قيم RGB.\n",
        "\n",
        "</p>\n",
        "\n",
        "</div>"
      ]
    },
    {
      "cell_type": "code",
      "execution_count": null,
      "id": "e4063b49",
      "metadata": {
        "id": "e4063b49"
      },
      "outputs": [],
      "source": [
        "from typing import Tuple\n",
        "\n",
        "class Cell(Tuple, Enum):\n",
        "    BLOCK = (41, 41, 41)\n",
        "    WHITE = (245, 245, 245)\n",
        "    GARY = (220, 220, 220)\n",
        "    PATH = (119, 214, 140)\n",
        "    EXPLORE = (121, 119, 214)\n",
        "    GOAL = (204, 60, 100)\n",
        "    START = (255, 153, 0)"
      ]
    },
    {
      "cell_type": "code",
      "execution_count": null,
      "id": "b0e3ab6b",
      "metadata": {
        "colab": {
          "base_uri": "https://localhost:8080/"
        },
        "id": "b0e3ab6b",
        "outputId": "063eeb0a-3196-4831-dec3-eb788776f65c"
      },
      "outputs": [
        {
          "output_type": "stream",
          "name": "stdout",
          "text": [
            "Collecting pygame\n",
            "  Downloading pygame-2.1.0-cp37-cp37m-manylinux_2_17_x86_64.manylinux2014_x86_64.whl (18.3 MB)\n",
            "\u001b[K     |████████████████████████████████| 18.3 MB 73 kB/s \n",
            "\u001b[?25hInstalling collected packages: pygame\n",
            "Successfully installed pygame-2.1.0\n"
          ]
        }
      ],
      "source": [
        "!pip install pygame"
      ]
    },
    {
      "cell_type": "markdown",
      "source": [
        "This is the new implementation of the Maze class, it has the same responsibilities but it has the extra code for visualizing.\n",
        "\n",
        "<div dir=rtl>\n",
        "<p>هذا هو التطبيق الجديد لفئة المتاهة ، لها نفس المسؤوليات ولكنها تحتوي على رمز إضافي للتخيل\n",
        "</p>\n",
        "</div>"
      ],
      "metadata": {
        "id": "23fZm8ggwkKr"
      },
      "id": "23fZm8ggwkKr"
    },
    {
      "cell_type": "code",
      "execution_count": null,
      "id": "f2996d6e",
      "metadata": {
        "colab": {
          "base_uri": "https://localhost:8080/"
        },
        "id": "f2996d6e",
        "outputId": "8c61f180-f37d-4d15-d880-ce15897546f0"
      },
      "outputs": [
        {
          "output_type": "stream",
          "name": "stdout",
          "text": [
            "pygame 2.1.0 (SDL 2.0.16, Python 3.7.12)\n",
            "Hello from the pygame community. https://www.pygame.org/contribute.html\n"
          ]
        }
      ],
      "source": [
        "import pygame\n",
        "\n",
        "\n",
        "class Maze:\n",
        "    \"\"\"\n",
        "    Representing Maze in pygame\n",
        "    \"\"\"\n",
        "    def __init__(self, rows: int, columns: int,\n",
        "                 grid_size: int, x_offset: int, y_offset: int,\n",
        "                 display_surface: pygame.Surface,\n",
        "                 start: Location = None, goal: Location = None):\n",
        "        self.x = columns\n",
        "        self.y = rows\n",
        "        self._grid_size: int = grid_size\n",
        "        self._rows: int = self.x // self._grid_size\n",
        "        self._columns: int = self.y // self._grid_size\n",
        "        self._x_offset: int = x_offset\n",
        "        self._y_offset: int = y_offset\n",
        "        self._start: Location = start\n",
        "        self._goal: Location = goal\n",
        "        self.display_surface = display_surface\n",
        "\n",
        "        self._grid = [[Cell.WHITE for _ in range(self._columns)]\n",
        "                      for _ in range(self._rows)]\n",
        "\n",
        "    "
      ]
    },
    {
      "cell_type": "markdown",
      "source": [
        "The mark and the successor function are the same as we explained above.\n",
        "<div dir=rtl>\n",
        "<p>إن الدالة  goal_check والدلة successor هي نفسها كما أوضحنا أعلاه.\n",
        "</p>\n",
        "</div>"
      ],
      "metadata": {
        "id": "ZCvXh5rUx_BN"
      },
      "id": "ZCvXh5rUx_BN"
    },
    {
      "cell_type": "code",
      "execution_count": null,
      "id": "-Y-wyUmHnXJT",
      "metadata": {
        "id": "-Y-wyUmHnXJT"
      },
      "outputs": [],
      "source": [
        "    def check_goal(self, location: Location) -> bool:\n",
        "      \"\"\"Giving a location, check if the location is the goal\"\"\"\n",
        "        return self._goal == location\n",
        "\n",
        "    def successor(self, location: Location, allow_diagonal=False) -> List[Location]:\n",
        "        \"\"\"\n",
        "        Given a location, return all the possible state of the location\n",
        "        :param location\n",
        "        :param allow_diagonal: default False\n",
        "        :return: list of available location\n",
        "        \"\"\"\n",
        "        list_of_neighbor: List[Location] = []\n",
        "        # the order: Top, Right, Bottom, Left\n",
        "        if location.column - 1 >= 0 and self._grid[location.row][location.column - 1] != Cell.BLOCK:\n",
        "            list_of_neighbor.append(Location(location.row, location.column - 1))\n",
        "        if location.row + 1 < self._rows and self._grid[location.row + 1][location.column] != Cell.BLOCK:\n",
        "            list_of_neighbor.append(Location(location.row + 1, location.column))\n",
        "        if location.column + 1 < self._columns and self._grid[location.row][location.column + 1] != Cell.BLOCK:\n",
        "            list_of_neighbor.append(Location(location.row, location.column + 1))\n",
        "        if location.row - 1 >= 0 and self._grid[location.row - 1][location.column] != Cell.BLOCK:\n",
        "            list_of_neighbor.append(Location(location.row - 1, location.column))\n",
        "        # Check for diagonal neighbor if possible\n",
        "        if not allow_diagonal:\n",
        "            return list_of_neighbor\n",
        "        # top-right\n",
        "        if (location.column - 1 >= 0 and location.row + 1 < self._rows) and self._grid[\n",
        "            location.row + 1][location.column - 1] != Cell.BLOCK:\n",
        "            list_of_neighbor.append(Location(location.row + 1, location.column - 1))\n",
        "        # bottom-right\n",
        "        if (location.column + 1 < self._columns and location.row + 1 < self._rows) and self._grid[\n",
        "            location.row + 1][location.column + 1] != Cell.BLOCK:\n",
        "            list_of_neighbor.append(Location(location.row + 1, location.column + 1))\n",
        "        # bottom - left\n",
        "        if (location.column + 1 < self._columns and location.row - 1 >= 0) and self._grid[\n",
        "            location.row - 1][location.column + 1] != Cell.BLOCK:\n",
        "            list_of_neighbor.append(Location(location.row - 1, location.column + 1))\n",
        "        # top-left\n",
        "        if (location.column - 1 >= 0 and location.row - 1 >= 0) and self._grid[\n",
        "            location.row - 1][location.column - 1] != Cell.BLOCK:\n",
        "            list_of_neighbor.append(Location(location.row - 1, location.column - 1))\n",
        "\n",
        "        return list_of_neighbor\n",
        "\n",
        "    "
      ]
    },
    {
      "cell_type": "markdown",
      "source": [
        "The mark function takes a location and colors and marks it in the gird with the given color.\n",
        "\n",
        "<div dir=rtl>\n",
        "<p>تأخذ العلامة موقعًا وألوانًا وتميزها في النطاق باللون المحدد.\n",
        "</p>\n",
        "</div>"
      ],
      "metadata": {
        "id": "FdPKCVXdysDl"
      },
      "id": "FdPKCVXdysDl"
    },
    {
      "cell_type": "code",
      "execution_count": null,
      "id": "Vrh17_PanYh_",
      "metadata": {
        "id": "Vrh17_PanYh_"
      },
      "outputs": [],
      "source": [
        "    def mark(self, location: Location, color: Cell) -> None:\n",
        "        value = self._grid[location.row][location.column]\n",
        "        if value != Cell.START and value != Cell.GOAL:\n",
        "            self._grid[location.row][location.column] = color\n",
        "\n",
        "    "
      ]
    },
    {
      "cell_type": "markdown",
      "source": [
        "The draw function will be used by pygame to display the maze, the maze grid is represented as vertical lines and horizontal lines, and each cell will be represented as a rectangle with different colors.\n",
        "\n",
        "<div dir=rtl>\n",
        "<p>سيتم استخدام وظيفة الرسم بواسطة pygame لعرض المتاهة ، ويتم تمثيل شبكة المتاهة كخطوط عمودية وخطوط أفقية ، وسيتم تمثيل كل خلية على شكل مربع بألوان مختلفة.\n",
        "</p>\n",
        "</div>"
      ],
      "metadata": {
        "id": "-QN15KqYzHVf"
      },
      "id": "-QN15KqYzHVf"
    },
    {
      "cell_type": "code",
      "execution_count": null,
      "id": "L3mnk69Ij-w3",
      "metadata": {
        "id": "L3mnk69Ij-w3"
      },
      "outputs": [],
      "source": [
        "    def draw(self):\n",
        "        # vertical line\n",
        "        for i in range(self._rows + 1):\n",
        "            pygame.draw.line(self.display_surface, Cell.GARY,\n",
        "                             (i * self._grid_size + self._x_offset, self._y_offset),\n",
        "                             (i * self._grid_size + self._x_offset, self._y_offset + self.y)elf._draw_vertical_line())\n",
        "        # horizontal line\n",
        "        for i in range(self._columns + 1):\n",
        "            pygame.draw.line(self.display_surface, Cell.GARY,\n",
        "                             (self._x_offset, i * self._grid_size + self._y_offset),\n",
        "                             (self._x_offset + self.x, (i * self._grid_size) + self._y_offset))\n",
        "\n",
        "        # Draw recrangle for each None empty cell\n",
        "        for i, row in enumerate(self._grid):\n",
        "            for j, value in enumerate(row):\n",
        "                if value is not Cell.WHITE:\n",
        "                    self._draw_rect(x=i, y=j, value=value)\n",
        "\n",
        "    "
      ]
    },
    {
      "cell_type": "markdown",
      "source": [
        "These methods will be used as getter and setter, before setting the value we need to normalize the location given from the user to location that can fit in the grid array, for example: <br>\n",
        "Location(110, 327) will be location(11, 17) in the grid.\n",
        "\n",
        "<div dir=rtl>\n",
        "<p>سيتم استخدام هذه الطرق كـ getter و setter ، قبل تعيين القيمة التي نحتاجها لتطبيع الموقع المعطى من المستخدم إلى الموقع الذي يمكن احتواؤه في مصفوفة الشبكة ، على سبيل المثل الموقع (110 ، 327) سيكون الموقع (11 ، 17) في الشبكة.\n",
        "</p>\n",
        "</div>\n"
      ],
      "metadata": {
        "id": "H7GDK6Kez0uy"
      },
      "id": "H7GDK6Kez0uy"
    },
    {
      "cell_type": "code",
      "execution_count": null,
      "id": "kC-05eohkk6O",
      "metadata": {
        "id": "kC-05eohkk6O"
      },
      "outputs": [],
      "source": [
        "    @property\n",
        "    def start(self) -> Location:\n",
        "        return self._start\n",
        "\n",
        "    @start.setter\n",
        "    def start(self, location: Location):\n",
        "        start: Location = self._normalize_location(location=location) # Location will\n",
        "        # Check the boundary before assign\n",
        "        if not self._check_boundary(location=start):\n",
        "            return None\n",
        "        self._start = start\n",
        "        # check if there are start point in grid before adding the new one\n",
        "        self._change_location_state(from_state=Cell.START, to=Cell.WHITE)\n",
        "        self._grid[self._start.row][self._start.column] = Cell.START\n",
        "\n",
        "    @property\n",
        "    def goal(self) -> Location:\n",
        "        return self._goal\n",
        "\n",
        "    @goal.setter\n",
        "    def goal(self, location: Location):\n",
        "        goal: Location = self._normalize_location(location=location)\n",
        "        # check for boundary before assign\n",
        "        if not self._check_boundary(location=goal):\n",
        "            return None\n",
        "        self._goal = goal\n",
        "        self._change_location_state(from_state=Cell.GOAL, to=Cell.WHITE)\n",
        "        self._grid[self._goal.row][self._goal.column] = Cell.GOAL\n",
        "\n",
        "    "
      ]
    },
    {
      "cell_type": "markdown",
      "source": [
        "These methods will help us modify the maze by changing the cell type, or erase everything in the grid or clearing the path if existed.\n",
        "<div dir=rtl>\n",
        "<p>ستساعدنا هذه الطرق في تعديل المتاهة عن طريق تغيير نوع الخلية أو محو كل شيء في الشبكة أو مسح المسار إن وجد.\n",
        "</p>\n",
        "</div>"
      ],
      "metadata": {
        "id": "65azr13A1Ei3"
      },
      "id": "65azr13A1Ei3"
    },
    {
      "cell_type": "code",
      "execution_count": null,
      "id": "7Q_POlOEktdv",
      "metadata": {
        "id": "7Q_POlOEktdv"
      },
      "outputs": [],
      "source": [
        "    def block(self, location: Location, to: Cell = Cell.BLOCK):\n",
        "        block: Location = self._normalize_location(location=location)\n",
        "        # check for boundary before assign\n",
        "        if not self._check_boundary(location=block):\n",
        "            return None\n",
        "        # change the cell from either WHITE -> BLOCK or BLOCK -> WHITE\n",
        "        if self._grid[block.row][block.column] == Cell.WHITE or self._grid[block.row][block.column] == Cell.BLOCK:\n",
        "            self._grid[block.row][block.column] = to\n",
        "\n",
        "    def erase_maze(self):\n",
        "      # Reset the entire grid to EMPTY or WHITE\n",
        "        self._grid = [[Cell.WHITE for _ in range(self._columns)]\n",
        "                      for _ in range(self._rows)]\n",
        "\n",
        "    def clear_maze(self):\n",
        "      # Delete every existing path from maze\n",
        "        for i, row in enumerate(self._grid):\n",
        "            for j, value in enumerate(row):\n",
        "                if value == Cell.EXPLORE or value == Cell.PATH:\n",
        "                    self._grid[i][j] = Cell.WHITE\n",
        "\n",
        "    "
      ]
    },
    {
      "cell_type": "markdown",
      "source": [
        "The full code of Maze class:"
      ],
      "metadata": {
        "id": "b6zMwwTk3hFp"
      },
      "id": "b6zMwwTk3hFp"
    },
    {
      "cell_type": "code",
      "execution_count": null,
      "id": "HdvaJiU418Zp",
      "metadata": {
        "id": "HdvaJiU418Zp"
      },
      "outputs": [],
      "source": [
        "import pygame\n",
        "\n",
        "\n",
        "class Maze:\n",
        "    \"\"\"\n",
        "    Representing Maze in pygame\n",
        "    \"\"\"\n",
        "    def __init__(self, rows: int, columns: int,\n",
        "                 grid_size: int, x_offset: int, y_offset: int,\n",
        "                 display_surface: pygame.Surface,\n",
        "                 start: Location = None, goal: Location = None):\n",
        "        self.x = columns\n",
        "        self.y = rows\n",
        "        self._grid_size: int = grid_size\n",
        "        self._rows: int = self.x // self._grid_size\n",
        "        self._columns: int = self.y // self._grid_size\n",
        "        self._x_offset: int = x_offset\n",
        "        self._y_offset: int = y_offset\n",
        "        self._start: Location = start\n",
        "        self._goal: Location = goal\n",
        "        self.display_surface = display_surface\n",
        "\n",
        "        self._grid = [[Cell.WHITE for _ in range(self._columns)]\n",
        "                      for _ in range(self._rows)]\n",
        "\n",
        "    def check_goal(self, location: Location) -> bool:\n",
        "        return self._goal == location\n",
        "\n",
        "    def successor(self, location: Location, allow_diagonal=False) -> List[Location]:\n",
        "        list_of_neighbor: List[Location] = []\n",
        "        # the order: Top, Right, Bottom, Left\n",
        "        if location.column - 1 >= 0 and self._grid[location.row][location.column - 1] != Cell.BLOCK:\n",
        "            list_of_neighbor.append(Location(location.row, location.column - 1))\n",
        "        if location.row + 1 < self._rows and self._grid[location.row + 1][location.column] != Cell.BLOCK:\n",
        "            list_of_neighbor.append(Location(location.row + 1, location.column))\n",
        "        if location.column + 1 < self._columns and self._grid[location.row][location.column + 1] != Cell.BLOCK:\n",
        "            list_of_neighbor.append(Location(location.row, location.column + 1))\n",
        "        if location.row - 1 >= 0 and self._grid[location.row - 1][location.column] != Cell.BLOCK:\n",
        "            list_of_neighbor.append(Location(location.row - 1, location.column))\n",
        "        # Check for diagonal neighbor if possible\n",
        "        if not allow_diagonal:\n",
        "            return list_of_neighbor\n",
        "        # top-right\n",
        "        if (location.column - 1 >= 0 and location.row + 1 < self._rows) and self._grid[\n",
        "            location.row + 1][location.column - 1] != Cell.BLOCK:\n",
        "            list_of_neighbor.append(Location(location.row + 1, location.column - 1))\n",
        "        # bottom-right\n",
        "        if (location.column + 1 < self._columns and location.row + 1 < self._rows) and self._grid[\n",
        "            location.row + 1][location.column + 1] != Cell.BLOCK:\n",
        "            list_of_neighbor.append(Location(location.row + 1, location.column + 1))\n",
        "        # bottom - left\n",
        "        if (location.column + 1 < self._columns and location.row - 1 >= 0) and self._grid[\n",
        "            location.row - 1][location.column + 1] != Cell.BLOCK:\n",
        "            list_of_neighbor.append(Location(location.row - 1, location.column + 1))\n",
        "        # top-left\n",
        "        if (location.column - 1 >= 0 and location.row - 1 >= 0) and self._grid[\n",
        "            location.row - 1][location.column - 1] != Cell.BLOCK:\n",
        "            list_of_neighbor.append(Location(location.row - 1, location.column - 1))\n",
        "\n",
        "        return list_of_neighbor\n",
        "\n",
        "    def mark(self, location: Location, color: Cell) -> None:\n",
        "        value = self._grid[location.row][location.column]\n",
        "        if value != Cell.START and value != Cell.GOAL:\n",
        "            self._grid[location.row][location.column] = color\n",
        "\n",
        "    def draw(self):\n",
        "        # vertical line\n",
        "        self._draw_vertical_line()\n",
        "        # horizontal line\n",
        "        self._draw_horizontal_line()\n",
        "\n",
        "        self._draw_occupied_place()\n",
        "\n",
        "    @property\n",
        "    def start(self) -> Location:\n",
        "        return self._start\n",
        "\n",
        "    @start.setter\n",
        "    def start(self, location: Location):\n",
        "        start: Location = self._normalize_location(location=location) # Location will\n",
        "        # Check the boundary before assign\n",
        "        if not self._check_boundary(location=start):\n",
        "            return None\n",
        "        self._start = start\n",
        "        # check if there are start point in grid before adding the new one\n",
        "        self._change_location_state(from_state=Cell.START, to=Cell.WHITE)\n",
        "        self._grid[self._start.row][self._start.column] = Cell.START\n",
        "\n",
        "    @property\n",
        "    def goal(self) -> Location:\n",
        "        return self._goal\n",
        "\n",
        "    @goal.setter\n",
        "    def goal(self, location: Location):\n",
        "        goal: Location = self._normalize_location(location=location)\n",
        "        # check for boundary before assign\n",
        "        if not self._check_boundary(location=goal):\n",
        "            return None\n",
        "        self._goal = goal\n",
        "        self._change_location_state(from_state=Cell.GOAL, to=Cell.WHITE)\n",
        "        self._grid[self._goal.row][self._goal.column] = Cell.GOAL\n",
        "\n",
        "    def block(self, location: Location, to: Cell = Cell.BLOCK):\n",
        "        block: Location = self._normalize_location(location=location)\n",
        "        # check for boundary before assign\n",
        "        if not self._check_boundary(location=block):\n",
        "            return None\n",
        "        if self._grid[block.row][block.column] == Cell.WHITE or self._grid[block.row][block.column] == Cell.BLOCK:\n",
        "            self._grid[block.row][block.column] = to\n",
        "\n",
        "    def erase_maze(self):\n",
        "        self._grid = [[Cell.WHITE for _ in range(self._columns)]\n",
        "                      for _ in range(self._rows)]\n",
        "\n",
        "    def clear_maze(self):\n",
        "        for i, row in enumerate(self._grid):\n",
        "            for j, value in enumerate(row):\n",
        "                if value == Cell.EXPLORE or value == Cell.PATH:\n",
        "                    self._grid[i][j] = Cell.WHITE\n",
        "\n",
        "    def fill_random(self, spread: float = 0.2):\n",
        "        for i, row in enumerate(self._grid):\n",
        "            for j, value in enumerate(row):\n",
        "                if value == Cell.WHITE and random.uniform(0, 1) < spread:\n",
        "                    self._grid[i][j] = Cell.BLOCK\n",
        "                    self.draw()\n",
        "                    pygame.display.update()\n",
        "\n",
        "    def _draw_horizontal_line(self):\n",
        "        # Draw Horizontal Line\n",
        "        for i in range(self._columns + 1):\n",
        "            pygame.draw.line(self.display_surface, Cell.GARY,\n",
        "                             (self._x_offset, i * self._grid_size + self._y_offset),\n",
        "                             (self._x_offset + self.x, (i * self._grid_size) + self._y_offset))\n",
        "\n",
        "    def _draw_vertical_line(self):\n",
        "        # Draw Vertical Line\n",
        "        for i in range(self._rows + 1):\n",
        "            pygame.draw.line(self.display_surface, Cell.GARY,\n",
        "                             (i * self._grid_size + self._x_offset, self._y_offset),\n",
        "                             (i * self._grid_size + self._x_offset, self._y_offset + self.y))\n",
        "\n",
        "    def _change_location_state(self, from_state: Cell, to: Cell):\n",
        "        for i, row in enumerate(self._grid):\n",
        "            for j, value in enumerate(row):\n",
        "                if value == from_state:\n",
        "                    self._grid[i][j] = to\n",
        "\n",
        "    def _normalize_location(self, location: Location) -> Location:\n",
        "        x = (location.row - self._x_offset) // self._grid_size\n",
        "        y = (location.column - self._y_offset) // self._grid_size\n",
        "        return Location(x, y)\n",
        "\n",
        "    def _draw_occupied_place(self):\n",
        "        for i, row in enumerate(self._grid):\n",
        "            for j, value in enumerate(row):\n",
        "                if value is not Cell.WHITE:\n",
        "                    self._draw_rect(x=i, y=j, value=value)\n",
        "\n",
        "    def _draw_rect(self, x: int, y: int, value: Cell):\n",
        "        rect_x = (x * self._grid_size) + self._x_offset\n",
        "        rect_y = (y * self._grid_size) + self._y_offset\n",
        "        pygame.draw.rect(self.display_surface, value,\n",
        "                         (rect_x + 1, rect_y + 1, self._grid_size - 1, self._grid_size - 1))\n",
        "\n",
        "    def _check_boundary(self, location: Location):\n",
        "        if 0 <= location.row < self._rows and 0 <= location.column < self._columns:\n",
        "            return True\n",
        "        return False"
      ]
    },
    {
      "cell_type": "markdown",
      "id": "a2becdd8",
      "metadata": {
        "id": "a2becdd8"
      },
      "source": [
        "The MazeController will take input from the user via keyboard and mouse to execute the following commands:\n",
        "- Block: mark the current mouse location as Block\n",
        "- Start: mark the current mouse location as Start\n",
        "- Goal: mark the current mouse location as Goal\n",
        "- Erase: erase everything from the maze\n",
        "- Clear: clear the path from the maze\n",
        "- Fill: fill the maze with random blocks\n",
        "\n",
        "<div dir=rtl>\n",
        "<p>سوف يأخذ MazeController المدخلات من المستخدم عبر لوحة المفاتيح والماوس لتنفيذ الأوامر التالية:\n",
        "</p>\n",
        "<ul >\n",
        "\n",
        "<li>الحاجز: ضع علامة على موقع الماوس الحالي على أنه حاجز\n",
        "</li>\n",
        "<li>البدء: ضع علامة على موقع الماوس الحالي كبداية</li>\n",
        "<li>الهدف: ضع علامة على موقع الماوس الحالي كهدف</li>\n",
        "<li>محو: امسح كل شيء من المتاهة</li>\n",
        "\n",
        "<li>مسح: امسح المسار من المتاهة</li>\n",
        "<li>املأ: املأ المتاهة بكتل عشوائية</li>\n",
        "\n",
        "</ul>\n",
        "</div>\n"
      ]
    },
    {
      "cell_type": "code",
      "execution_count": null,
      "id": "df0efc6c",
      "metadata": {
        "id": "df0efc6c"
      },
      "outputs": [],
      "source": [
        "class MazeControllerCommand(str, Enum):\n",
        "    BLOCK = \"BLOCK\"\n",
        "    START = \"START\"\n",
        "    GOAL = \"GOAL\"\n",
        "    ERASE = \"ERASE\"\n",
        "    CLEAR = \"ERASE EXPLORE AND PATH\"\n",
        "    FILL = \"FILL\"\n"
      ]
    },
    {
      "cell_type": "markdown",
      "source": [
        "The update method will listen for every event from the user, either by clicking or typing the keyboard, the maze will change according to the user input.\n",
        "<div dir=rtl>\n",
        "<p>ستستمع طريقة التحديث لكل حدث من المستخدم ، إما عن طريق النقر أو الكتابة على لوحة المفاتيح ، وسوف تتغير المتاهة وفقًا لإدخال المستخدم.\n",
        "</p>\n",
        "</div>"
      ],
      "metadata": {
        "id": "ZiVikK523svt"
      },
      "id": "ZiVikK523svt"
    },
    {
      "cell_type": "code",
      "execution_count": null,
      "id": "6MKZBIivk7x5",
      "metadata": {
        "id": "6MKZBIivk7x5"
      },
      "outputs": [],
      "source": [
        "class MazeController:\n",
        "    def __init__(self, maze: Maze, display_surface: pygame.Surface):\n",
        "        self._maze = maze\n",
        "        self.display_grid = display_surface\n",
        "        self._current_command: MazeControllerCommand = MazeControllerCommand.START\n",
        "\n",
        "    def update(self, events: pygame.event):\n",
        "        # Loop for event and allow user to:\n",
        "        for event in events:\n",
        "            if event.type == pygame.KEYDOWN:\n",
        "              # chekc if the user want to change the current command\n",
        "                self._change_current_command(event)\n",
        "            # check for every command we support and update the maze\n",
        "            if self._current_command == MazeControllerCommand.START:\n",
        "                self._check_for_start_point(event=event)\n",
        "            if self._current_command == MazeControllerCommand.GOAL:\n",
        "                self._check_for_goal_point(event=event)\n",
        "            if self._current_command == MazeControllerCommand.BLOCK:\n",
        "                self._check_for_block_point(event=event)\n",
        "            if self._current_command == MazeControllerCommand.ERASE:\n",
        "                self._erase_maze()\n",
        "                self._current_command = MazeControllerCommand.START\n",
        "            if self._current_command == MazeControllerCommand.CLEAR:\n",
        "                self._clear_path()\n",
        "            if self._current_command == MazeControllerCommand.FILL:\n",
        "                self._fill_maze()\n",
        "\n",
        "    "
      ]
    },
    {
      "cell_type": "markdown",
      "source": [
        "The keyboard input that we accept from the user:\n",
        "- S: will change the command to START, every click from the user will mark the location of the click as the start location\n",
        "- G: will change the command to GOAL, every click from the user will mark the location of the click as the goal location\n",
        "- B: will change the command to BLOCK, every click and mouse motion will change location to block\n",
        "- C: will clear path if existed in the maze\n",
        "- F: will fill the maze with random block\n",
        "- E: will erase everything from the maze\n",
        "\n",
        "<div dir=rtl>\n",
        "<p>مدخلات لوحة المفاتيح التي نقبلها من المستخدم:\n",
        " <ul>\n",
        " <li>S: سيغير الأمر إلى START ، وكل نقرة من المستخدم ستحدد موقع النقرة كموقع البدء</li>\n",
        " \n",
        " <li>G: سيغير الأمر إلى GOAL ، وستقوم كل نقرة من المستخدم بتمييز موقع النقرة على أنه موقع الهدف</li>\n",
        " \n",
        " <li>B: سيغير الأمر إلى BLOCK ، كل نقرة وحركة الماوس ستغير الموقع إلى الحظر</li>\n",
        " \n",
        " <li>C: سيمسح المسار إذا كان موجودًا في المتاهة</li>\n",
        " \n",
        " <li>F: سوف تملأ المتاهة بكتلة عشوائية</li>\n",
        " \n",
        " <li>E: سيمحو كل شيء من المتاهة</li>\n",
        " </ul>\n",
        "</p>\n",
        "\n",
        "</div>\n"
      ],
      "metadata": {
        "id": "hG29e1PO4j9g"
      },
      "id": "hG29e1PO4j9g"
    },
    {
      "cell_type": "code",
      "execution_count": null,
      "id": "jJB76NX0lD7z",
      "metadata": {
        "id": "jJB76NX0lD7z"
      },
      "outputs": [],
      "source": [
        "    def _change_current_command(self, event):\n",
        "        if event.key == pygame.K_s:\n",
        "            self._current_command = MazeControllerCommand.START\n",
        "        if event.key == pygame.K_g:\n",
        "            self._current_command = MazeControllerCommand.GOAL\n",
        "        if event.key == pygame.K_b:\n",
        "            self._current_command = MazeControllerCommand.BLOCK\n",
        "        if event.key == pygame.K_e:\n",
        "            self._current_command = MazeControllerCommand.ERASE\n",
        "        if event.key == pygame.K_c:\n",
        "            self._current_command = MazeControllerCommand.CLEAR\n",
        "        if event.key == pygame.K_f:\n",
        "            self._current_command = MazeControllerCommand.FILL\n",
        "\n",
        "    "
      ]
    },
    {
      "cell_type": "markdown",
      "source": [
        "The full code of MazeController"
      ],
      "metadata": {
        "id": "LiCZ3_PF50qN"
      },
      "id": "LiCZ3_PF50qN"
    },
    {
      "cell_type": "code",
      "source": [
        "class MazeController:\n",
        "    def __init__(self, maze: Maze, display_surface: pygame.Surface):\n",
        "        self._maze = maze\n",
        "        self.display_grid = display_surface\n",
        "        self._current_command: MazeControllerCommand = MazeControllerCommand.START\n",
        "\n",
        "    def update(self, events: pygame.event):\n",
        "        # Loop for event and allow user to:\n",
        "        for event in events:\n",
        "            if event.type == pygame.KEYDOWN:\n",
        "                self._change_current_command(event)\n",
        "            if self._current_command == MazeControllerCommand.START:\n",
        "                self._check_for_start_point(event=event)\n",
        "            if self._current_command == MazeControllerCommand.GOAL:\n",
        "                self._check_for_goal_point(event=event)\n",
        "            if self._current_command == MazeControllerCommand.BLOCK:\n",
        "                self._check_for_block_point(event=event)\n",
        "            if self._current_command == MazeControllerCommand.ERASE:\n",
        "                self._erase_maze()\n",
        "                self._current_command = MazeControllerCommand.START\n",
        "            if self._current_command == MazeControllerCommand.CLEAR:\n",
        "                self._clear_path()\n",
        "            if self._current_command == MazeControllerCommand.FILL:\n",
        "                self._fill_maze()\n",
        "\n",
        "    def _change_current_command(self, event):\n",
        "        if event.key == pygame.K_s:\n",
        "            self._current_command = MazeControllerCommand.START\n",
        "        if event.key == pygame.K_g:\n",
        "            self._current_command = MazeControllerCommand.GOAL\n",
        "        if event.key == pygame.K_b:\n",
        "            self._current_command = MazeControllerCommand.BLOCK\n",
        "        if event.key == pygame.K_e:\n",
        "            self._current_command = MazeControllerCommand.ERASE\n",
        "        if event.key == pygame.K_c:\n",
        "            self._current_command = MazeControllerCommand.CLEAR\n",
        "        if event.key == pygame.K_f:\n",
        "            self._current_command = MazeControllerCommand.FILL\n",
        "\n",
        "    def _check_for_start_point(self, event: pygame.event):\n",
        "        # press 's' and mouse click, then add start point to maze\n",
        "        if event.type == pygame.MOUSEBUTTONUP:\n",
        "            self._maze.start = (Location(row=event.pos[0], column=event.pos[1]))\n",
        "\n",
        "    def _check_for_goal_point(self, event: pygame.event):\n",
        "        # press 'g' and mouse click, then add goal point to maze\n",
        "        if event.type == pygame.MOUSEBUTTONUP:\n",
        "            self._maze.goal = (Location(row=event.pos[0], column=event.pos[1]))\n",
        "\n",
        "    def _check_for_block_point(self, event: pygame.event):\n",
        "        if event.type == pygame.MOUSEMOTION and event.buttons[0]:\n",
        "            self._maze.block(location=Location(event.pos[0], column=event.pos[1]))\n",
        "        if event.type == pygame.MOUSEBUTTONUP:\n",
        "            self._maze.block(location=Location(row=event.pos[0], column=event.pos[1]), to=Cell.WHITE)\n",
        "\n",
        "    def _erase_maze(self):\n",
        "        self._maze.erase_maze()\n",
        "\n",
        "    def _clear_path(self):\n",
        "        self._maze.clear_maze()\n",
        "        self._current_command = MazeControllerCommand.BLOCK\n",
        "\n",
        "    def _fill_maze(self):\n",
        "        self._maze.fill_random()\n",
        "        self._current_command = MazeControllerCommand.START\n"
      ],
      "metadata": {
        "id": "DM4Lg_N45ttU"
      },
      "id": "DM4Lg_N45ttU",
      "execution_count": null,
      "outputs": []
    },
    {
      "cell_type": "markdown",
      "id": "a8dd290a",
      "metadata": {
        "id": "a8dd290a"
      },
      "source": [
        "AStar class will be the same as above plus adding additional functionality for measuring time, and all the parameters of Astar will be in the initialize function:\n",
        "\n",
        "<div dir=rtl>\n",
        "<p>ستكون فئة A* هي نفسها كما هو مذكور أعلاه بالإضافة إلى إضافة وظائف إضافية لقياس الوقت ، وستكون جميع العوامل A* في وظيفة التهيئة:</p>\n",
        "</div>"
      ]
    },
    {
      "cell_type": "code",
      "execution_count": null,
      "id": "778e5faa",
      "metadata": {
        "id": "778e5faa"
      },
      "outputs": [],
      "source": [
        "import time\n",
        "from typing import Union\n",
        "\n",
        "class AStar:\n",
        "    def __init__(self, heuristic: Callable[[Location], float],\n",
        "                 successor: Callable[[Location, bool], List[Location]],\n",
        "                 goal_check: Callable[[Location], bool],\n",
        "                 start: Location, maze: Maze,\n",
        "                 allow_diagonal: bool, display_surface):\n",
        "        self._heuristic: Callable[[Location], float] = heuristic\n",
        "        self._successor = successor\n",
        "        self._goal_check = goal_check\n",
        "        self._start = start\n",
        "        self._maze: Maze = maze\n",
        "        self._solution: Union[Node, None] = None\n",
        "        self._time: float = 0.0\n",
        "        self._len_of_path: int = 0\n",
        "        self._allow_diagonal = allow_diagonal\n",
        "        self.display_surface = display_surface\n",
        "\n",
        "    @property\n",
        "    def heuristic(self):\n",
        "        return self._heuristic\n",
        "\n",
        "    @heuristic.setter\n",
        "    def heuristic(self, heuristic):\n",
        "        self._heuristic = heuristic\n",
        "         \n",
        "    @property\n",
        "    def time(self):\n",
        "        return self._time\n",
        "\n",
        "    @property\n",
        "    def len_of_path(self):\n",
        "        return self._len_of_path\n",
        "    \n",
        "    "
      ]
    },
    {
      "cell_type": "markdown",
      "source": [
        "The start method will run A* algorithm and mark the path if the solution exists. Notch that all the parameters are accessible by the class variable.\n",
        "<div dir=rtl>\n",
        "<p>ستعمل دالة البداية على تشغيل خوارزمية A * وتضع علامة على المسار إذا كان الحل موجودًا. مع ملاحظة أن جميع العوامل يمكن الوصول إليها بواسطة متغير الفئة.</p>\n",
        "</div>"
      ],
      "metadata": {
        "id": "RIY5MjBl6BDo"
      },
      "id": "RIY5MjBl6BDo"
    },
    {
      "cell_type": "code",
      "execution_count": null,
      "id": "Tv3U99eNl7cd",
      "metadata": {
        "id": "Tv3U99eNl7cd"
      },
      "outputs": [],
      "source": [
        "    def start(self):\n",
        "        t1 = time.perf_counter()\n",
        "        self._solution: Node = self._search()\n",
        "        t2 = time.perf_counter()\n",
        "        self._time = t2 - t1\n",
        "        print(f\"time to take: {t2 - t1}\")\n",
        "\n",
        "        if not self._solution:\n",
        "            print(\"No solution found\")\n",
        "            return\n",
        "        paths: List[Location] = path_to_node(self._solution)\n",
        "        self._len_of_path = len(paths)\n",
        "        for location in paths:\n",
        "            self._maze.mark(location=location, color=Cell.PATH)\n",
        "            self._maze.draw()\n",
        "            pygame.display.update()\n",
        "            image = pygame.surfarray.array3d(display_surface)\n",
        "            image = image.transpose([1, 0, 2])\n",
        "            output.clear(wait=True)\n",
        "            cv2_imshow(image)\n",
        "\n",
        "    "
      ]
    },
    {
      "cell_type": "markdown",
      "source": [
        "A* implementation as we explained above\n",
        "<div dir=rtl>\n",
        "<p>A* التنفيذ كما أوضحنا أعلاه\n",
        "</p>\n",
        "</div>"
      ],
      "metadata": {
        "id": "X9ECXlwP6hgs"
      },
      "id": "X9ECXlwP6hgs"
    },
    {
      "cell_type": "code",
      "execution_count": null,
      "id": "MgrN9aVal8WW",
      "metadata": {
        "id": "MgrN9aVal8WW"
      },
      "outputs": [],
      "source": [
        "    def _search(self) -> Node:\n",
        "        # A*\n",
        "        frontier: PriorityQueue = PriorityQueue()\n",
        "        start = Node(location=self._start, parent=None, cost=0, heuristic=self._heuristic(self._start))\n",
        "        frontier.push(start)\n",
        "        explored: Dict[Location, int] = {self._start: 0}\n",
        "        while not frontier.empty:\n",
        "            current_node: Node = frontier.pop()\n",
        "            current_location: Location = current_node.location\n",
        "            # update the screen\n",
        "            self._maze.mark(location=current_location, color=Cell.EXPLORE)\n",
        "            self._maze.draw()\n",
        "            pygame.display.update()\n",
        "            image = pygame.surfarray.array3d(self.display_surface)\n",
        "            image = image.transpose([1, 0, 2])\n",
        "            output.clear(wait=True)\n",
        "            cv2_imshow(image)\n",
        "            if self._goal_check(current_location):\n",
        "                return current_node\n",
        "            for child in self._successor(current_location, self._allow_diagonal):\n",
        "                new_cost = current_node.cost + 1\n",
        "                if child not in explored or explored[child] > new_cost:\n",
        "                    frontier.push(Node(location=child, parent=current_node,\n",
        "                                     cost=new_cost, heuristic=self._heuristic(child)))\n",
        "                    explored[child] = new_cost\n",
        "        return None"
      ]
    },
    {
      "cell_type": "markdown",
      "source": [
        "The full code of A*"
      ],
      "metadata": {
        "id": "PMrN5dIh69S2"
      },
      "id": "PMrN5dIh69S2"
    },
    {
      "cell_type": "code",
      "source": [
        "import time\n",
        "\n",
        "class AStar:\n",
        "    def __init__(self, heuristic: Callable[[Location], float],\n",
        "                 successor: Callable[[Location, bool], List[Location]],\n",
        "                 goal_check: Callable[[Location], bool],\n",
        "                 start: Location, maze: Maze,\n",
        "                 allow_diagonal: bool, display_surface):\n",
        "        self._heuristic: Callable[[Location], float] = heuristic\n",
        "        self._successor = successor\n",
        "        self._goal_check = goal_check\n",
        "        self._start = start\n",
        "        self._maze: Maze = maze\n",
        "        self._solution: Union[Node, None] = None\n",
        "        self._time: float = 0.0\n",
        "        self._len_of_path: int = 0\n",
        "        self._allow_diagonal = allow_diagonal\n",
        "        self._display_surface = display_surface\n",
        "\n",
        "    @property\n",
        "    def heuristic(self):\n",
        "        return self._heuristic\n",
        "\n",
        "    @heuristic.setter\n",
        "    def heuristic(self, heuristic):\n",
        "        self._heuristic = heuristic\n",
        "\n",
        "    def start(self):\n",
        "        t1 = time.perf_counter()\n",
        "        self._solution: Node = self._search()\n",
        "        t2 = time.perf_counter()\n",
        "        self._time = t2 - t1\n",
        "        print(f\"time to take: {t2 - t1}\")\n",
        "\n",
        "        if not self._solution:\n",
        "            print(\"No solution found\")\n",
        "            return\n",
        "        paths: List[Location] = path_to_node(self._solution)\n",
        "        self._len_of_path = len(paths)\n",
        "        for location in paths:\n",
        "            self._maze.mark(location=location, color=Cell.PATH)\n",
        "            self._maze.draw()\n",
        "            pygame.display.update()\n",
        "            image = pygame.surfarray.array3d(self._display_surface)\n",
        "            image = image.transpose([1, 0, 2])\n",
        "            output.clear(wait=True)\n",
        "            cv2_imshow(image)\n",
        "\n",
        "    def _search(self) -> Node:\n",
        "        # A*\n",
        "        frontier: PriorityQueue = PriorityQueue()\n",
        "        start = Node(location=self._start, parent=None, cost=0, heuristic=self._heuristic(self._start))\n",
        "        frontier.push(start)\n",
        "        explored: Dict[Location, int] = {self._start: 0}\n",
        "        while not frontier.empty:\n",
        "            current_node: Node = frontier.pop()\n",
        "            current_location: Location = current_node.location\n",
        "            # update the screen\n",
        "            self._maze.mark(location=current_location, color=Cell.EXPLORE)\n",
        "            self._maze.draw()\n",
        "            pygame.display.update()\n",
        "            image = pygame.surfarray.array3d(self._display_surface)\n",
        "            image = image.transpose([1, 0, 2])\n",
        "            output.clear(wait=True)\n",
        "            cv2_imshow(image)\n",
        "            if self._goal_check(current_location):\n",
        "                return current_node\n",
        "            for child in self._successor(current_location, self._allow_diagonal):\n",
        "                new_cost = current_node.cost + 1\n",
        "                if child not in explored or explored[child] > new_cost:\n",
        "                    frontier.push(Node(location=child, parent=current_node,\n",
        "                                       cost=new_cost, heuristic=self._heuristic(child)))\n",
        "                    explored[child] = new_cost\n",
        "        return None\n",
        "\n",
        "    @property\n",
        "    def time(self):\n",
        "        return self._time\n",
        "\n",
        "    @property\n",
        "    def len_of_path(self):\n",
        "        return self._len_of_path\n"
      ],
      "metadata": {
        "id": "zlRSUZv364IP"
      },
      "id": "zlRSUZv364IP",
      "execution_count": null,
      "outputs": []
    },
    {
      "cell_type": "markdown",
      "id": "80c93795",
      "metadata": {
        "id": "80c93795"
      },
      "source": [
        "Finally, we need to add SearchController that take input from the user, which is:\n",
        "What heuristic to use.\n",
        "Allow for diagonal movement.\n",
        "Start the algorithm\n",
        "<div dir=rtl>\n",
        "<p>أخيرًا ، نحتاج إلى إضافة SearchController التي تأخذ مدخلات من المستخدم ، وهي:\n",
        " \n",
        " ما هي الدالة الإرشادية المستخدمة.\n",
        " \n",
        " السماح لحركة قطرية.\n",
        " \n",
        " ابدأ الخوارزمية\n",
        "</p>\n",
        "</div>"
      ]
    },
    {
      "cell_type": "code",
      "execution_count": null,
      "id": "3be465c2",
      "metadata": {
        "id": "3be465c2"
      },
      "outputs": [],
      "source": [
        "from typing import Union\n",
        "\n",
        "\n",
        "class SearchController:\n",
        "    def __init__(self, maze: Maze, display_surface: pygame.Surface):\n",
        "        self._maze = maze\n",
        "        self.display_surface = display_surface\n",
        "        self._heuristic: Callable[[Location], Callable[[Location], float]] = manhattan_distance\n",
        "        self._font = pygame.font.SysFont(\"roboto\", 20)\n",
        "        self._a_star: Union[AStar, None] = None\n",
        "\n",
        "        self._heuristic_panel = pygame.draw.rect(self.display_surface, Cell.BLOCK, (0, 0, 800, 200))\n",
        "        self._statistic_panel = pygame.draw.rect(self.display_surface, Cell.BLOCK, (800, 0, 200, 1000))\n",
        "\n",
        "        self._euclidean_text = self._font.render(\"Euclidean Distance\", True, Cell.WHITE)\n",
        "        self._euclidean_rect = self._euclidean_text.get_rect()\n",
        "        self._euclidean_rect.topleft = (10, 135)\n",
        "\n",
        "        self._manhattan_text = self._font.render(\"Manhattan Distance\", True, Cell.WHITE)\n",
        "        self._manhattan_rect = self._manhattan_text.get_rect()\n",
        "        self._manhattan_rect.topleft = (self._euclidean_rect.right + 10, 135)\n",
        "\n",
        "        self._chebyshev_text = self._font.render(\"Chebyshev distance\", True, Cell.WHITE)\n",
        "        self._chebyshev_rect = self._chebyshev_text.get_rect()\n",
        "        self._chebyshev_rect.topleft = (self._manhattan_rect.right + 10, 135)\n",
        "\n",
        "        self._time_text = self._font.render(f\"Time: {0:<{6}}\", True, Cell.WHITE)\n",
        "        self._time_rect = self._time_text.get_rect()\n",
        "        self._time_rect.topleft = (self._chebyshev_rect.right + 30, 135)\n",
        "\n",
        "        self._length_of_path_text = self._font.render(f\"Length: {0}\", True, Cell.WHITE)\n",
        "        self._length_of_path_rect = self._length_of_path_text.get_rect()\n",
        "        self._length_of_path_rect.topleft = (self._chebyshev_rect.right + 30, 35)\n",
        "\n",
        "        self._diagonal_movement = False\n",
        "        self._allow_diagonal_text = self._font.render(\"Allow diagonal movement\", True, self._diagonal_color())\n",
        "        self._allow_diagonal_rect = self._allow_diagonal_text.get_rect()\n",
        "        self._allow_diagonal_rect.topleft = (self._time_rect.right + 40, 135)\n",
        "\n",
        "    "
      ]
    },
    {
      "cell_type": "markdown",
      "source": [
        "The update method will take ‘r’ as an event for running the A* algorithm, and it will check if the user clicks on any heuristic and change the current heuristic according to user click.\n",
        "<div dir=rtl>\n",
        "<p>ستأخذ طريقة التحديث \"r\" كحدث لتشغيل خوارزمية A * ، وستتحقق مما إذا كان المستخدم ينقر على أي دالة إرشادية وتغيير الاستدلال الحالي وفقًا لنقرة المستخدم.\n",
        "</p>\n",
        "</div>"
      ],
      "metadata": {
        "id": "Ib62HEbt7NNM"
      },
      "id": "Ib62HEbt7NNM"
    },
    {
      "cell_type": "code",
      "execution_count": null,
      "id": "RLzGHou3mFel",
      "metadata": {
        "id": "RLzGHou3mFel"
      },
      "outputs": [],
      "source": [
        "    def update(self, events: pygame.event):\n",
        "        for event in events:\n",
        "            if event.type == pygame.KEYDOWN:\n",
        "                if event.key == pygame.K_r:\n",
        "                    self._run_search()\n",
        "            if event.type == pygame.MOUSEBUTTONUP:\n",
        "                if self._manhattan_rect.collidepoint(event.pos):\n",
        "                    self._heuristic = manhattan_distance\n",
        "                if self._euclidean_rect.collidepoint(event.pos):\n",
        "                    self._heuristic = euclidean_distance\n",
        "                if self._chebyshev_rect.collidepoint(event.pos):\n",
        "                    self._heuristic = chebyshev_distance\n",
        "                if self._allow_diagonal_rect.collidepoint(event.pos):\n",
        "                    self._diagonal_movement = not self._diagonal_movement\n",
        "\n",
        "    "
      ]
    },
    {
      "cell_type": "markdown",
      "source": [
        "The full code of SearchControllerr"
      ],
      "metadata": {
        "id": "ZDI_IcPG80XK"
      },
      "id": "ZDI_IcPG80XK"
    },
    {
      "cell_type": "code",
      "source": [
        "class SearchController:\n",
        "    def __init__(self, maze: Maze, display_surface: pygame.Surface):\n",
        "        self._maze = maze\n",
        "        self.display_surface = display_surface\n",
        "        self._heuristic: Callable[[Location], Callable[[Location], float]] = manhattan_distance\n",
        "        self._font = pygame.font.SysFont(\"roboto\", 20)\n",
        "        self._a_star: Union[AStar, None] = None\n",
        "\n",
        "        self._heuristic_panel = pygame.draw.rect(self.display_surface, Cell.BLOCK, (0, 0, 800, 200))\n",
        "        self._statistic_panel = pygame.draw.rect(self.display_surface, Cell.BLOCK, (800, 0, 200, 1000))\n",
        "\n",
        "        self._euclidean_text = self._font.render(\"Euclidean Distance\", True, Cell.WHITE)\n",
        "        self._euclidean_rect = self._euclidean_text.get_rect()\n",
        "        self._euclidean_rect.topleft = (10, 135)\n",
        "\n",
        "        self._manhattan_text = self._font.render(\"Manhattan Distance\", True, Cell.WHITE)\n",
        "        self._manhattan_rect = self._manhattan_text.get_rect()\n",
        "        self._manhattan_rect.topleft = (self._euclidean_rect.right + 10, 135)\n",
        "\n",
        "        self._chebyshev_text = self._font.render(\"Chebyshev distance\", True, Cell.WHITE)\n",
        "        self._chebyshev_rect = self._chebyshev_text.get_rect()\n",
        "        self._chebyshev_rect.topleft = (self._manhattan_rect.right + 10, 135)\n",
        "\n",
        "        self._time_text = self._font.render(f\"Time: {0:<{6}}\", True, Cell.WHITE)\n",
        "        self._time_rect = self._time_text.get_rect()\n",
        "        self._time_rect.topleft = (self._chebyshev_rect.right + 30, 135)\n",
        "\n",
        "        self._length_of_path_text = self._font.render(f\"Length: {0}\", True, Cell.WHITE)\n",
        "        self._length_of_path_rect = self._length_of_path_text.get_rect()\n",
        "        self._length_of_path_rect.topleft = (self._chebyshev_rect.right + 30, 35)\n",
        "\n",
        "        self._diagonal_movement = False\n",
        "        self._allow_diagonal_text = self._font.render(\"Allow diagonal movement\", True, self._diagonal_color())\n",
        "        self._allow_diagonal_rect = self._allow_diagonal_text.get_rect()\n",
        "        self._allow_diagonal_rect.topleft = (self._time_rect.right + 40, 135)\n",
        "\n",
        "    def draw(self):\n",
        "        # Draw rect for choosing heuristic\n",
        "        self._draw_heuristic_panel()\n",
        "\n",
        "    def update(self, events: pygame.event):\n",
        "        for event in events:\n",
        "            if event.type == pygame.KEYDOWN:\n",
        "                if event.key == pygame.K_r:\n",
        "                    self._run_search()\n",
        "            if event.type == pygame.MOUSEBUTTONUP:\n",
        "                if self._manhattan_rect.collidepoint(event.pos):\n",
        "                    self._heuristic = manhattan_distance\n",
        "                if self._euclidean_rect.collidepoint(event.pos):\n",
        "                    self._heuristic = euclidean_distance\n",
        "                if self._chebyshev_rect.collidepoint(event.pos):\n",
        "                    self._heuristic = chebyshev_distance\n",
        "                if self._allow_diagonal_rect.collidepoint(event.pos):\n",
        "                    self._diagonal_movement = not self._diagonal_movement\n",
        "\n",
        "    def _draw_heuristic_panel(self):\n",
        "        self._heuristic_panel = pygame.draw.rect(self.display_surface, Cell.BLOCK, (0, 0, 1200, 200))\n",
        "        heuristic_name = self._heuristic.__name__.replace(\"_\", \" \").title()\n",
        "        heuristic_text = self._font.render(f\"Heuristic Function: {heuristic_name}\",\n",
        "                                           True, Cell.WHITE)\n",
        "        heuristic_rect = heuristic_text.get_rect()\n",
        "        heuristic_rect.topleft = (10, 35)\n",
        "\n",
        "        self._allow_diagonal_text = self._font.render(\"Allow diagonal movement\", True, self._diagonal_color())\n",
        "\n",
        "        if self._a_star:\n",
        "            self._time_text = self._font.render(f\"Time: {round(self._a_star.time, 3)}\", True, Cell.WHITE)\n",
        "            self._length_of_path_text = self._font.render(f\"Length: {self._a_star.len_of_path}\", True, Cell.WHITE)\n",
        "        else:\n",
        "            self._length_of_path_text = self._font.render(f\"Length: {0}\", True, Cell.WHITE)\n",
        "            self._time_text = self._font.render(f\"Time: {0}\", True, Cell.WHITE)\n",
        "\n",
        "            # Horizontal Line\n",
        "        pygame.draw.line(self.display_surface, Cell.WHITE, (0, 99),\n",
        "                         (1200, 99), 2)\n",
        "        # Vertical Line (in the center after heuristic)\n",
        "        pygame.draw.line(self.display_surface, Cell.WHITE,\n",
        "                         (self._chebyshev_rect.right + 5, 0),\n",
        "                         (self._chebyshev_rect.right + 5, 200), 2)\n",
        "        # Vertical line (after time text)\n",
        "        pygame.draw.line(self.display_surface, Cell.WHITE,\n",
        "                         (self._time_rect.right + 30, 0),\n",
        "                         (self._time_rect.right + 30, 200), 2)\n",
        "\n",
        "        self.display_surface.blit(self._euclidean_text, self._euclidean_rect)\n",
        "        self.display_surface.blit(self._manhattan_text, self._manhattan_rect)\n",
        "        self.display_surface.blit(self._chebyshev_text, self._chebyshev_rect)\n",
        "        self.display_surface.blit(heuristic_text, heuristic_rect)\n",
        "        self.display_surface.blit(self._time_text, self._time_rect)\n",
        "        self.display_surface.blit(self._allow_diagonal_text, self._allow_diagonal_rect)\n",
        "        self.display_surface.blit(self._length_of_path_text, self._length_of_path_rect)\n",
        "\n",
        "    def run_search(self):\n",
        "        self._maze.start = Location(390, 290)\n",
        "        self._maze.goal = Location(1090, 790)\n",
        "        self._maze.fill_random()\n",
        "        if not self._can_run():\n",
        "            print(\"Enter maze value first\")\n",
        "            return\n",
        "        heuristic = self._heuristic(self._maze.goal)\n",
        "        self._a_star = AStar(heuristic=heuristic, successor=self._maze.successor,\n",
        "                             goal_check=self._maze.check_goal,\n",
        "                             start=self._maze.start, maze=self._maze,\n",
        "                             allow_diagonal=self._diagonal_movement, display_surface=self.display_surface)\n",
        "        self._a_star.start()\n",
        "\n",
        "    def _can_run(self) -> bool:\n",
        "        if not self._maze.goal or not self._maze.start:\n",
        "            return False\n",
        "        return True\n",
        "\n",
        "    def _diagonal_color(self):\n",
        "        return Cell.START if self._diagonal_movement else Cell.WHITE\n",
        "\n"
      ],
      "metadata": {
        "id": "QCEKL16x8Rea"
      },
      "id": "QCEKL16x8Rea",
      "execution_count": null,
      "outputs": []
    },
    {
      "cell_type": "markdown",
      "id": "e7260704",
      "metadata": {
        "id": "e7260704"
      },
      "source": [
        "To see the GUI we created, we need to add configuration to make collab record in the server-side and place it on the web, the way todo this is explained in this blog \n",
        "[Visualizations for Tkinter and PyGame in Colab](https://vishnudsharma.medium.com/visualizing-tkinter-and-pygame-in-colab-272c5a245f8c)\n",
        "Now we can test the application by putting everything together.\n",
        "<div dir=rtl>\n",
        "<p>لرؤية واجهة المستخدم الرسومية التي أنشأناها ، نحتاج إلى إضافة تكوين لإنشاء سجل Collab في جانب الخادم ووضعه على الويب ، وطريقة القيام بذلك موضحة في هذه المدونة\n",
        "</p>\n",
        "<p>الآن يمكننا اختبار التطبيق من خلال تجميع كل شيء معًا.</p>\n",
        "\n",
        "</div>"
      ]
    },
    {
      "cell_type": "code",
      "execution_count": null,
      "id": "47475012",
      "metadata": {
        "colab": {
          "base_uri": "https://localhost:8080/",
          "height": 817
        },
        "id": "47475012",
        "outputId": "ffa8becf-b147-4700-9b56-ab5a401a4eff",
        "collapsed": true
      },
      "outputs": [
        {
          "output_type": "display_data",
          "data": {
            "image/png": "[encoded data removed]",
            "text/plain": [
              "<PIL.Image.Image image mode=RGB size=1200x800 at 0x7FE845E369D0>"
            ]
          },
          "metadata": {}
        }
      ],
      "source": [
        "import os\n",
        "os.environ[\"SDL_VIDEODRIVER\"] = \"dummy\"\n",
        "from google.colab.patches import cv2_imshow\n",
        "from google.colab import output\n",
        "\n",
        "# init\n",
        "pygame.init()\n",
        "WIDTH = 1200\n",
        "HEIGHT = 800\n",
        "display_surface = pygame.display.set_mode((WIDTH, HEIGHT))\n",
        "pygame.display.set_caption(\"A Star Algorithms\")\n",
        "\n",
        "FPS = 60\n",
        "clock = pygame.time.Clock()\n",
        "\n",
        "maze: Maze = Maze(rows=600, columns=1200, grid_size=20,\n",
        "                  x_offset=0, y_offset=200, display_surface=display_surface)\n",
        "maze_controller: MazeController = MazeController(maze=maze, display_surface=display_surface)\n",
        "search_controller: SearchController = SearchController(maze=maze, display_surface=display_surface)\n",
        "\n",
        "image = pygame.surfarray.array3d(display_surface)\n",
        "image = image.transpose([1, 0, 2])\n",
        "\n",
        "events = pygame.event.get()\n",
        "display_surface.fill(Cell.WHITE)\n",
        "search_controller.update(events=events)\n",
        "maze_controller.update(events=events)\n",
        "search_controller.run_search()\n",
        "image = pygame.surfarray.array3d(display_surface)\n",
        "image = image.transpose([1, 0, 2])\n",
        "output.clear(wait=True)\n",
        "cv2_imshow(image)\n",
        "\n",
        "\n",
        "search_controller.draw()\n",
        "maze.draw()\n",
        "\n",
        "pygame.display.update()\n",
        "clock.tick(FPS)\n",
        "\n",
        "pygame.quit()\n"
      ]
    },
    {
      "cell_type": "markdown",
      "source": [
        "The full version of this project can be accessed in this repository: \n",
        "[GitHub repository](https://github.com/AhmedAl-Sardi/a-star-algorithms)\n",
        "<div dir=rtl>\n",
        "<p>يمكن الوصول إلى النسخة الكاملة من هذا المشروع على الرابط المذكور اعلاه</p>\n",
        "</div>"
      ],
      "metadata": {
        "id": "yVF7N1KYDhft"
      },
      "id": "yVF7N1KYDhft"
    },
    {
      "cell_type": "markdown",
      "id": "zWFd1NG5HjrB",
      "metadata": {
        "id": "zWFd1NG5HjrB"
      },
      "source": [
        "## GIFS\n",
        "This some GIFS from the GUI and how each heuristic behave:\n",
        "<div dir=rtl>\n",
        "<p>هذه بعض صور GIF من واجهة المستخدم الرسومية وكيف يتصرف كل منها:\n",
        "</p>\n",
        "</div>\n",
        "\n",
        "### Euclidean Heuristic\n",
        "![euclidean.gif](https://github.com/AhmedAl-Sardi/a-star-algorithms/blob/main/images/gifs/euclidean.gif?raw=1)\n",
        "\n",
        "### Mannhattan Heuristic\n",
        "![Manhattan.gif](https://github.com/AhmedAl-Sardi/a-star-algorithms/blob/main/images/gifs/Manhattan.gif?raw=1)\n",
        "\n",
        "### Chebyshev Heuristic\n",
        "![chebyshev.gif](https://github.com/AhmedAl-Sardi/a-star-algorithms/blob/main/images/gifs/chebyshev.gif?raw=1)"
      ]
    },
    {
      "cell_type": "markdown",
      "id": "4u8S78q6zXAR",
      "metadata": {
        "id": "4u8S78q6zXAR"
      },
      "source": [
        "# Testing A* with different heuristic\n",
        "\n",
        "Here, each heuristic has been tested 10 times in four directions, and these are the results for each heuristic:\n",
        "\n",
        "<div dir=rtl>\n",
        "<p> هنا ، تم اختبار كل دالة إرشادية 10 مرات في أربعة اتجاهات ، وهذه هي نتائج كل دالة:\n",
        "</p>\n",
        "</div>\n",
        "\n",
        "![euclidean 4 direction](https://github.com/AhmedAl-Sardi/a-star-algorithms/blob/main/images/direction/euclidean_4direction.png?raw=1)\n",
        "\n"
      ]
    },
    {
      "cell_type": "markdown",
      "id": "WVqrEKq70l4q",
      "metadata": {
        "id": "WVqrEKq70l4q"
      },
      "source": [
        "![manhattan 4 direction](https://github.com/AhmedAl-Sardi/a-star-algorithms/blob/main/images/direction/manhattan_4drirection.png?raw=1)"
      ]
    },
    {
      "cell_type": "markdown",
      "id": "sLbPuh2o0pE2",
      "metadata": {
        "id": "sLbPuh2o0pE2"
      },
      "source": [
        "![chebyshev 4 direction](https://github.com/AhmedAl-Sardi/a-star-algorithms/blob/main/images/direction/chebyshev_4direction.png?raw=1)"
      ]
    },
    {
      "cell_type": "markdown",
      "id": "GxuUyUhG0skX",
      "metadata": {
        "id": "GxuUyUhG0skX"
      },
      "source": [
        "Here each heuristic has been tested 10 times in eight directions, and these are the results for each heuristic.\n",
        "<div dir=rtl>\n",
        "<p>هنا تم اختبار كل دالة إرشادية 10 مرات في ثمانية اتجاهات ، وهذه هي نتائج كل دالة:\n",
        "</p>\n",
        "</div>\n",
        "\n",
        "![Euclidean 8 direction](https://github.com/AhmedAl-Sardi/a-star-algorithms/blob/main/images/direction/euclidean_8direction.png?raw=1)"
      ]
    },
    {
      "cell_type": "markdown",
      "id": "GC89I6He04ir",
      "metadata": {
        "id": "GC89I6He04ir"
      },
      "source": [
        "![manhattan 8 direction](https://github.com/AhmedAl-Sardi/a-star-algorithms/blob/main/images/direction/manhattan_8direction.png?raw=1)"
      ]
    },
    {
      "cell_type": "markdown",
      "id": "IWuPRiLm07ZT",
      "metadata": {
        "id": "IWuPRiLm07ZT"
      },
      "source": [
        "![chebyshev 8 direction](https://github.com/AhmedAl-Sardi/a-star-algorithms/blob/main/images/direction/chebyshev_8direction.png?raw=1)"
      ]
    },
    {
      "cell_type": "markdown",
      "source": [
        "# Conclusion:\n",
        "A* is a great algorithm that can find the optimal path in a short amount of time, but it depends on the heuristic, and not every heuristic is applicable in any type of A*, as we see that Manhattan distance give the best result when the agent can only move in 4 direction, but if we make the agent move in 8 direction it becomes not admissible and can give a wrong result.\n",
        "\n",
        "The heuristic will follow these rules:\n",
        "1. If the heuristic is 0 then the actual cost g(n) will only be used, and A* will be turned into Dijkstra’s algorithms\n",
        "2. If the heuristic is lower than the actual path, then A* will guarantee the shortest path,  and the more heuristic being lower the more expanded nodes happen.\n",
        "3. If the heuristic is the same as an actual path, then A* will find the shortest path with exact step without expanding any unnecessary node\n",
        "4. If the heuristic is greater than the actual path, the A* may not guarantee the shortest path, but it will run faster\n",
        "5. If the heuristic is greater by an extreme factor, the A* will turn into Greedy algorithms\n",
        "These 5 points summarize all the heuristic behavior and characters \n",
        "\n",
        "\n",
        "<div dir=rtl>\n",
        "<h1>الخاتمة</h1>\n",
        "<p> A * هي خوارزمية رائعة يمكنها العثور على المسار الأمثل في فترة زمنية قصيرة ، ولكنها تعتمد على الكشف الدوال ، وليس كل الدوال قابله للتطبيق في أي نوع من A * ، كما نرى أن مسافة مانهاتن تعطي أفضل نتيجة عندما  يمكن للعامل أن يتحرك في 4 اتجاهات فقط ، ولكن إذا جعلنا الوكيل يتحرك في 8 اتجاهات ، فإنه يصبح غير مقبول ويمكن أن يعطي نتيجة خاطئة.\n",
        "</p>\n",
        "\n",
        "<ol>\n",
        "<li>إذا كان الاستدلال 0 ، فسيتم استخدام التكلفة الفعلية g(n)  فقط ، وسيتم تحويل A * إلى خوارزميات Dijkstra.</li>\n",
        "<li>إذا كان الاستدلال أقل من المسار الفعلي ، فإن A * يضمن أقصر مسار ، وكلما كان التوجيه أكثر انخفاضًا ، يحدث المزيد من العقد الموسعة.</li>\n",
        "<li> إذا كان الاستدلال هو نفس المسار الفعلي ، ستجد A * أقصر مسار بخطوة دقيقة دون توسيع أي عقدة غير ضرورية.</li>\n",
        "<li> إذا كان الاستدلال أكبر من المسار الفعلي ، فقد لا يضمن A * أقصر مسار ، ولكنه سيعمل بشكل أسرع.</li>\n",
        "<li>إذا كان الكشف عن مجريات الأمور أكبر بعامل متطرف ، فسوف يتحول A * إلى الخوارزميات الجشعة.</li>\n",
        "</ol>\n",
        "</div>"
      ],
      "metadata": {
        "id": "e3Qy-jGHG9T4"
      },
      "id": "e3Qy-jGHG9T4"
    },
    {
      "cell_type": "markdown",
      "id": "OEQq0R-n0-ST",
      "metadata": {
        "id": "OEQq0R-n0-ST"
      },
      "source": [
        "### Submitted by:\n",
        "\n",
        "<ul>\n",
        "    <li>Sulatn Almansour  - 440016632</li>\n",
        "    <li>Ahmed Alshaalan - 440017246</li>\n",
        "    <li>Ahmed Othman - 440028238</li>\n",
        "</ul>\n",
        "\n",
        "###  Supervisor: DR. Omar Abdulrahman Alaql\n",
        "\n",
        "# References and resources:\n",
        "[A* search algorithm](https://en.wikipedia.org/wiki/A*_search_algorithm)\n",
        "\n",
        "[Amit’s Thoughts on Pathfinding](http://theory.stanford.edu/~amitp/GameProgramming/Heuristics.html)\n",
        "\n",
        "[Comparison of A*, Euclidean and Manhattan\n",
        "distance using Influence Map in Ms. Pac-Man](https://www.diva-portal.org/smash/get/diva2:918778/FULLTEXT02.pdf)\n",
        "\n",
        "[9 Distance Measures in Data Science](https://towardsdatascience.com/9-distance-measures-in-data-science-918109d069fa)\n",
        "\n",
        "\n",
        "[Visualizations for Tkinter and PyGame in Colab](https://vishnudsharma.medium.com/visualizing-tkinter-and-pygame-in-colab-272c5a245f8c)"
      ]
    }
  ],
  "metadata": {
    "colab": {
      "collapsed_sections": [],
      "name": "A Star.ipynb",
      "provenance": [],
      "toc_visible": true,
      "include_colab_link": true
    },
    "kernelspec": {
      "display_name": "Python 3 (ipykernel)",
      "language": "python",
      "name": "python3"
    },
    "language_info": {
      "codemirror_mode": {
        "name": "ipython",
        "version": 3
      },
      "file_extension": ".py",
      "mimetype": "text/x-python",
      "name": "python",
      "nbconvert_exporter": "python",
      "pygments_lexer": "ipython3",
      "version": "3.9.7"
    }
  },
  "nbformat": 4,
  "nbformat_minor": 5
}